{
 "cells": [
  {
   "cell_type": "markdown",
   "metadata": {},
   "source": [
    "Can a model predict the correct choice to make to win a game?"
   ]
  },
  {
   "cell_type": "code",
   "execution_count": 59,
   "metadata": {},
   "outputs": [],
   "source": [
    "import os\n",
    "import time\n",
    "import glob\n",
    "import math\n",
    "\n",
    "import numpy as np\n",
    "import pandas as pd\n",
    "import matplotlib.pyplot as plt\n",
    "from sklearn import linear_model, preprocessing, model_selection\n",
    "%matplotlib inline"
   ]
  },
  {
   "cell_type": "code",
   "execution_count": 2,
   "metadata": {},
   "outputs": [],
   "source": [
    "data_dir = \"generated_games\""
   ]
  },
  {
   "cell_type": "code",
   "execution_count": 3,
   "metadata": {},
   "outputs": [
    {
     "name": "stdout",
     "output_type": "stream",
     "text": [
      "CSVs in data_dir:\n",
      "['random_choice_games.csv']\n"
     ]
    }
   ],
   "source": [
    "print(\"CSVs in data_dir:\")\n",
    "files = glob.glob(os.path.join(data_dir, \"*.csv\"))\n",
    "print([os.path.basename(file) for file in files])"
   ]
  },
  {
   "cell_type": "code",
   "execution_count": 4,
   "metadata": {},
   "outputs": [],
   "source": [
    "fp = os.path.join(data_dir, \"random_choice_games.csv\")\n",
    "raw = pd.read_csv(fp)"
   ]
  },
  {
   "cell_type": "code",
   "execution_count": 24,
   "metadata": {},
   "outputs": [],
   "source": [
    "winning_moves = raw.groupby(\"game_no\").last()"
   ]
  },
  {
   "cell_type": "code",
   "execution_count": 31,
   "metadata": {},
   "outputs": [],
   "source": [
    "# All features are categorical\n",
    "\n",
    "to_encode = winning_moves.drop(\"choice\", axis=1)\n",
    "encoder = preprocessing.OneHotEncoder()\n",
    "X = encoder.fit_transform(to_encode)\n",
    "\n",
    "scaler = np.array([3] * (X.shape[1]))\n",
    "X = X / scaler"
   ]
  },
  {
   "cell_type": "code",
   "execution_count": 34,
   "metadata": {},
   "outputs": [],
   "source": [
    "y = winning_moves[\"choice\"]"
   ]
  },
  {
   "cell_type": "code",
   "execution_count": 35,
   "metadata": {},
   "outputs": [],
   "source": [
    "CV = 5"
   ]
  },
  {
   "cell_type": "code",
   "execution_count": 44,
   "metadata": {},
   "outputs": [
    {
     "name": "stdout",
     "output_type": "stream",
     "text": [
      "Fit took 93.046 sec\n",
      "Data had shape: (20000, 126)\n",
      "Number of Cs cross-validated: 20\n",
      "\n",
      "GridSearchCV(cv=5, error_score='raise',\n",
      "       estimator=LogisticRegression(C=1.0, class_weight=None, dual=False, fit_intercept=False,\n",
      "          intercept_scaling=1, max_iter=100, multi_class='multinomial',\n",
      "          n_jobs=1, penalty='l2', random_state=None, solver='lbfgs',\n",
      "          tol=0.0001, verbose=0, warm_start=False),\n",
      "       fit_params=None, iid=True, n_jobs=1,\n",
      "       param_grid={'C': array([  1.00000e-03,   2.06914e-03,   4.28133e-03,   8.85867e-03,\n",
      "         1.83298e-02,   3.79269e-02,   7.84760e-02,   1.62378e-01,\n",
      "         3.35982e-01,   6.95193e-01,   1.43845e+00,   2.97635e+00,\n",
      "         6.15848e+00,   1.27427e+01,   2.63665e+01,   5.45559e+01,\n",
      "         1.12884e+02,   2.33572e+02,   4.83293e+02,   1.00000e+03])},\n",
      "       pre_dispatch='2*n_jobs', refit=True, return_train_score=True,\n",
      "       scoring=None, verbose=0)\n"
     ]
    }
   ],
   "source": [
    "# Fit classifier w/ CV-fold Cross Validation\n",
    "\n",
    "cs = np.logspace(-3, 3, 20)\n",
    "logit = linear_model.LogisticRegression(penalty='l2', fit_intercept=False,\n",
    "                                        multi_class='multinomial', solver='lbfgs')\n",
    "\n",
    "clf = model_selection.GridSearchCV(logit, param_grid={'C': cs}, cv=CV)\n",
    "\n",
    "start = time.time()\n",
    "clf.fit(X, y)\n",
    "end = time.time()\n",
    "\n",
    "print(f\"Fit took {round(end - start, 3)} sec\")\n",
    "print(f\"Data had shape: ({X.shape[0]}, {X.shape[1]})\")\n",
    "print(f\"Number of Cs cross-validated: {len(cs)}\\n\")\n",
    "print(clf)"
   ]
  },
  {
   "cell_type": "code",
   "execution_count": 45,
   "metadata": {},
   "outputs": [
    {
     "data": {
      "text/plain": [
       "[<matplotlib.lines.Line2D at 0x178983dc978>]"
      ]
     },
     "execution_count": 45,
     "metadata": {},
     "output_type": "execute_result"
    },
    {
     "data": {
      "image/png": "[encoded data removed]",
      "text/plain": [
       "<matplotlib.figure.Figure at 0x17898266550>"
      ]
     },
     "metadata": {},
     "output_type": "display_data"
    }
   ],
   "source": [
    "# Plot results per Fold\n",
    "\n",
    "trains = [clf.cv_results_[f\"split{i}_train_score\"] for i in range(CV)]\n",
    "tests = [clf.cv_results_[f\"split{i}_test_score\"] for i in range(CV)]\n",
    "all_vals = np.array(trains + tests)\n",
    "max_val = all_vals.max()\n",
    "min_val = all_vals.min()\n",
    "\n",
    "ax = plt.subplot()\n",
    "# ax.set_ylim((0, 1))\n",
    "\n",
    "cs = np.log(clf.param_grid[\"C\"])\n",
    "\n",
    "cmap = {0: 'green', 1: 'yellow', 2: 'orange', 3: 'lightblue', 4: 'pink'}\n",
    "\n",
    "for i in range(CV):\n",
    "    \n",
    "    train_nm = f\"split{i}_train_score\"\n",
    "    split_train = clf.cv_results_[train_nm]\n",
    "    \n",
    "    test_nm = f\"split{i}_test_score\"\n",
    "    split_test = clf.cv_results_[test_nm]\n",
    "    \n",
    "    ax.plot(cs, split_train, color=cmap[i])\n",
    "    ax.plot(cs, split_test, color=cmap[i], linestyle='--')\n",
    "    \n",
    "ax.plot(cs, clf.cv_results_[\"mean_train_score\"], color='black', linewidth=2)\n",
    "ax.plot(cs, clf.cv_results_[\"mean_test_score\"], color='black', linestyle='--', linewidth=2)"
   ]
  },
  {
   "cell_type": "code",
   "execution_count": null,
   "metadata": {},
   "outputs": [],
   "source": []
  },
  {
   "cell_type": "markdown",
   "metadata": {},
   "source": [
    "Using keras"
   ]
  },
  {
   "cell_type": "code",
   "execution_count": 60,
   "metadata": {},
   "outputs": [],
   "source": [
    "# https://github.com/dcoxnard/nyc17_ds13/blob/master/class_lectures/week08-fletcher2/03-deep_learning_keras/Deep%20Learning%20for%20NLP-%20An%20Application-based%20Intro.ipynb\n",
    "\n",
    "test_share = .25\n",
    "\n",
    "ix = math.floor(X.shape[0] * test_share)\n",
    "X_train = X[:ix]\n",
    "X_test = X[ix:]\n",
    "y_train = y[:ix]\n",
    "y_test = y[ix:]"
   ]
  },
  {
   "cell_type": "code",
   "execution_count": 52,
   "metadata": {},
   "outputs": [
    {
     "name": "stderr",
     "output_type": "stream",
     "text": [
      "Using TensorFlow backend.\n"
     ]
    }
   ],
   "source": [
    "os.environ[\"KERAS_BACKEND\"] = 'tensorflow'\n",
    "import keras"
   ]
  },
  {
   "cell_type": "code",
   "execution_count": 56,
   "metadata": {},
   "outputs": [],
   "source": [
    "input_shape = (126,)  # X columns\n",
    "\n",
    "model = keras.Sequential()\n",
    "model.add(keras.layers.Dense(16, input_shape=input_shape, activation='relu'))\n",
    "model.add(keras.layers.Dense(7, activation='softmax'))"
   ]
  },
  {
   "cell_type": "code",
   "execution_count": 58,
   "metadata": {},
   "outputs": [],
   "source": [
    "model.compile(loss='sparse_categorical_crossentropy', optimizer='sgd', metrics=['accuracy'])"
   ]
  },
  {
   "cell_type": "code",
   "execution_count": 61,
   "metadata": {
    "scrolled": true
   },
   "outputs": [
    {
     "name": "stdout",
     "output_type": "stream",
     "text": [
      "Train on 3750 samples, validate on 1250 samples\n",
      "Epoch 1/200\n",
      "3750/3750 [==============================] - 0s 85us/step - loss: 1.9796 - acc: 0.1355 - val_loss: 1.9588 - val_acc: 0.1576\n",
      "Epoch 2/200\n",
      "3750/3750 [==============================] - 0s 25us/step - loss: 1.9399 - acc: 0.1837 - val_loss: 1.9311 - val_acc: 0.2136\n",
      "Epoch 3/200\n",
      "3750/3750 [==============================] - 0s 25us/step - loss: 1.9181 - acc: 0.2285 - val_loss: 1.9155 - val_acc: 0.2288\n",
      "Epoch 4/200\n",
      "3750/3750 [==============================] - 0s 25us/step - loss: 1.9051 - acc: 0.2453 - val_loss: 1.9058 - val_acc: 0.2264\n",
      "Epoch 5/200\n",
      "3750/3750 [==============================] - 0s 26us/step - loss: 1.8966 - acc: 0.2485 - val_loss: 1.8991 - val_acc: 0.2264\n",
      "Epoch 6/200\n",
      "3750/3750 [==============================] - 0s 26us/step - loss: 1.8905 - acc: 0.2472 - val_loss: 1.8941 - val_acc: 0.2264\n",
      "Epoch 7/200\n",
      "3750/3750 [==============================] - 0s 27us/step - loss: 1.8858 - acc: 0.2448 - val_loss: 1.8899 - val_acc: 0.2288\n",
      "Epoch 8/200\n",
      "3750/3750 [==============================] - 0s 25us/step - loss: 1.8818 - acc: 0.2453 - val_loss: 1.8865 - val_acc: 0.2312\n",
      "Epoch 9/200\n",
      "3750/3750 [==============================] - 0s 25us/step - loss: 1.8785 - acc: 0.2467 - val_loss: 1.8836 - val_acc: 0.2320\n",
      "Epoch 10/200\n",
      "3750/3750 [==============================] - 0s 24us/step - loss: 1.8756 - acc: 0.2461 - val_loss: 1.8808 - val_acc: 0.2336\n",
      "Epoch 11/200\n",
      "3750/3750 [==============================] - 0s 24us/step - loss: 1.8729 - acc: 0.2472 - val_loss: 1.8784 - val_acc: 0.2328\n",
      "Epoch 12/200\n",
      "3750/3750 [==============================] - 0s 25us/step - loss: 1.8705 - acc: 0.2467 - val_loss: 1.8760 - val_acc: 0.2328\n",
      "Epoch 13/200\n",
      "3750/3750 [==============================] - 0s 25us/step - loss: 1.8681 - acc: 0.2477 - val_loss: 1.8738 - val_acc: 0.2336\n",
      "Epoch 14/200\n",
      "3750/3750 [==============================] - 0s 26us/step - loss: 1.8658 - acc: 0.2483 - val_loss: 1.8716 - val_acc: 0.2336\n",
      "Epoch 15/200\n",
      "3750/3750 [==============================] - 0s 25us/step - loss: 1.8635 - acc: 0.2499 - val_loss: 1.8694 - val_acc: 0.2344\n",
      "Epoch 16/200\n",
      "3750/3750 [==============================] - 0s 25us/step - loss: 1.8613 - acc: 0.2501 - val_loss: 1.8672 - val_acc: 0.2352\n",
      "Epoch 17/200\n",
      "3750/3750 [==============================] - 0s 26us/step - loss: 1.8590 - acc: 0.2533 - val_loss: 1.8650 - val_acc: 0.2352\n",
      "Epoch 18/200\n",
      "3750/3750 [==============================] - 0s 25us/step - loss: 1.8567 - acc: 0.2520 - val_loss: 1.8627 - val_acc: 0.2384\n",
      "Epoch 19/200\n",
      "3750/3750 [==============================] - 0s 25us/step - loss: 1.8545 - acc: 0.2552 - val_loss: 1.8606 - val_acc: 0.2392\n",
      "Epoch 20/200\n",
      "3750/3750 [==============================] - 0s 25us/step - loss: 1.8521 - acc: 0.2552 - val_loss: 1.8584 - val_acc: 0.2392\n",
      "Epoch 21/200\n",
      "3750/3750 [==============================] - 0s 25us/step - loss: 1.8497 - acc: 0.2563 - val_loss: 1.8561 - val_acc: 0.2408\n",
      "Epoch 22/200\n",
      "3750/3750 [==============================] - 0s 25us/step - loss: 1.8473 - acc: 0.2579 - val_loss: 1.8538 - val_acc: 0.2408\n",
      "Epoch 23/200\n",
      "3750/3750 [==============================] - 0s 25us/step - loss: 1.8448 - acc: 0.2600 - val_loss: 1.8515 - val_acc: 0.2424\n",
      "Epoch 24/200\n",
      "3750/3750 [==============================] - 0s 26us/step - loss: 1.8424 - acc: 0.2608 - val_loss: 1.8491 - val_acc: 0.2448\n",
      "Epoch 25/200\n",
      "3750/3750 [==============================] - 0s 26us/step - loss: 1.8398 - acc: 0.2621 - val_loss: 1.8466 - val_acc: 0.2440\n",
      "Epoch 26/200\n",
      "3750/3750 [==============================] - 0s 25us/step - loss: 1.8371 - acc: 0.2648 - val_loss: 1.8442 - val_acc: 0.2440\n",
      "Epoch 27/200\n",
      "3750/3750 [==============================] - 0s 25us/step - loss: 1.8344 - acc: 0.2659 - val_loss: 1.8417 - val_acc: 0.2440\n",
      "Epoch 28/200\n",
      "3750/3750 [==============================] - 0s 26us/step - loss: 1.8315 - acc: 0.2656 - val_loss: 1.8390 - val_acc: 0.2496\n",
      "Epoch 29/200\n",
      "3750/3750 [==============================] - 0s 26us/step - loss: 1.8286 - acc: 0.2669 - val_loss: 1.8362 - val_acc: 0.2544\n",
      "Epoch 30/200\n",
      "3750/3750 [==============================] - 0s 25us/step - loss: 1.8257 - acc: 0.2739 - val_loss: 1.8336 - val_acc: 0.2552\n",
      "Epoch 31/200\n",
      "3750/3750 [==============================] - 0s 26us/step - loss: 1.8226 - acc: 0.2741 - val_loss: 1.8309 - val_acc: 0.2552\n",
      "Epoch 32/200\n",
      "3750/3750 [==============================] - 0s 27us/step - loss: 1.8195 - acc: 0.2744 - val_loss: 1.8279 - val_acc: 0.2560\n",
      "Epoch 33/200\n",
      "3750/3750 [==============================] - 0s 27us/step - loss: 1.8164 - acc: 0.2808 - val_loss: 1.8251 - val_acc: 0.2560\n",
      "Epoch 34/200\n",
      "3750/3750 [==============================] - 0s 25us/step - loss: 1.8131 - acc: 0.2835 - val_loss: 1.8222 - val_acc: 0.2576\n",
      "Epoch 35/200\n",
      "3750/3750 [==============================] - 0s 26us/step - loss: 1.8099 - acc: 0.2829 - val_loss: 1.8193 - val_acc: 0.2584\n",
      "Epoch 36/200\n",
      "3750/3750 [==============================] - 0s 29us/step - loss: 1.8066 - acc: 0.2843 - val_loss: 1.8161 - val_acc: 0.2640\n",
      "Epoch 37/200\n",
      "3750/3750 [==============================] - 0s 26us/step - loss: 1.8032 - acc: 0.2907 - val_loss: 1.8129 - val_acc: 0.2648\n",
      "Epoch 38/200\n",
      "3750/3750 [==============================] - 0s 25us/step - loss: 1.7998 - acc: 0.2901 - val_loss: 1.8095 - val_acc: 0.2680\n",
      "Epoch 39/200\n",
      "3750/3750 [==============================] - 0s 25us/step - loss: 1.7964 - acc: 0.2933 - val_loss: 1.8063 - val_acc: 0.2720\n",
      "Epoch 40/200\n",
      "3750/3750 [==============================] - 0s 24us/step - loss: 1.7929 - acc: 0.2968 - val_loss: 1.8030 - val_acc: 0.2776\n",
      "Epoch 41/200\n",
      "3750/3750 [==============================] - 0s 24us/step - loss: 1.7893 - acc: 0.2995 - val_loss: 1.7996 - val_acc: 0.2776\n",
      "Epoch 42/200\n",
      "3750/3750 [==============================] - 0s 28us/step - loss: 1.7858 - acc: 0.3024 - val_loss: 1.7963 - val_acc: 0.2800\n",
      "Epoch 43/200\n",
      "3750/3750 [==============================] - 0s 24us/step - loss: 1.7821 - acc: 0.3040 - val_loss: 1.7929 - val_acc: 0.2800\n",
      "Epoch 44/200\n",
      "3750/3750 [==============================] - 0s 24us/step - loss: 1.7785 - acc: 0.3040 - val_loss: 1.7894 - val_acc: 0.2808\n",
      "Epoch 45/200\n",
      "3750/3750 [==============================] - 0s 24us/step - loss: 1.7748 - acc: 0.3067 - val_loss: 1.7856 - val_acc: 0.2832\n",
      "Epoch 46/200\n",
      "3750/3750 [==============================] - 0s 23us/step - loss: 1.7711 - acc: 0.3085 - val_loss: 1.7822 - val_acc: 0.2832\n",
      "Epoch 47/200\n",
      "3750/3750 [==============================] - 0s 24us/step - loss: 1.7672 - acc: 0.3099 - val_loss: 1.7784 - val_acc: 0.2880\n",
      "Epoch 48/200\n",
      "3750/3750 [==============================] - 0s 26us/step - loss: 1.7633 - acc: 0.3139 - val_loss: 1.7747 - val_acc: 0.2880\n",
      "Epoch 49/200\n",
      "3750/3750 [==============================] - 0s 23us/step - loss: 1.7593 - acc: 0.3187 - val_loss: 1.7710 - val_acc: 0.2896\n",
      "Epoch 50/200\n",
      "3750/3750 [==============================] - 0s 25us/step - loss: 1.7553 - acc: 0.3163 - val_loss: 1.7671 - val_acc: 0.2952\n",
      "Epoch 51/200\n",
      "3750/3750 [==============================] - 0s 26us/step - loss: 1.7512 - acc: 0.3195 - val_loss: 1.7632 - val_acc: 0.2976\n",
      "Epoch 52/200\n",
      "3750/3750 [==============================] - 0s 26us/step - loss: 1.7470 - acc: 0.3216 - val_loss: 1.7593 - val_acc: 0.3032\n",
      "Epoch 53/200\n",
      "3750/3750 [==============================] - 0s 26us/step - loss: 1.7428 - acc: 0.3312 - val_loss: 1.7555 - val_acc: 0.3032\n",
      "Epoch 54/200\n",
      "3750/3750 [==============================] - 0s 25us/step - loss: 1.7386 - acc: 0.3256 - val_loss: 1.7513 - val_acc: 0.3080\n",
      "Epoch 55/200\n",
      "3750/3750 [==============================] - 0s 24us/step - loss: 1.7343 - acc: 0.3333 - val_loss: 1.7474 - val_acc: 0.3056\n",
      "Epoch 56/200\n",
      "3750/3750 [==============================] - 0s 24us/step - loss: 1.7301 - acc: 0.3320 - val_loss: 1.7433 - val_acc: 0.3104\n",
      "Epoch 57/200\n",
      "3750/3750 [==============================] - 0s 26us/step - loss: 1.7256 - acc: 0.3360 - val_loss: 1.7393 - val_acc: 0.3120\n",
      "Epoch 58/200\n",
      "3750/3750 [==============================] - 0s 27us/step - loss: 1.7213 - acc: 0.3357 - val_loss: 1.7353 - val_acc: 0.3144\n",
      "Epoch 59/200\n",
      "3750/3750 [==============================] - 0s 24us/step - loss: 1.7169 - acc: 0.3400 - val_loss: 1.7309 - val_acc: 0.3208\n",
      "Epoch 60/200\n"
     ]
    },
    {
     "name": "stdout",
     "output_type": "stream",
     "text": [
      "3750/3750 [==============================] - 0s 26us/step - loss: 1.7124 - acc: 0.3461 - val_loss: 1.7268 - val_acc: 0.3232\n",
      "Epoch 61/200\n",
      "3750/3750 [==============================] - 0s 24us/step - loss: 1.7079 - acc: 0.3485 - val_loss: 1.7227 - val_acc: 0.3248\n",
      "Epoch 62/200\n",
      "3750/3750 [==============================] - 0s 25us/step - loss: 1.7034 - acc: 0.3501 - val_loss: 1.7184 - val_acc: 0.3328\n",
      "Epoch 63/200\n",
      "3750/3750 [==============================] - 0s 24us/step - loss: 1.6989 - acc: 0.3512 - val_loss: 1.7146 - val_acc: 0.3328\n",
      "Epoch 64/200\n",
      "3750/3750 [==============================] - 0s 29us/step - loss: 1.6943 - acc: 0.3507 - val_loss: 1.7101 - val_acc: 0.3376\n",
      "Epoch 65/200\n",
      "3750/3750 [==============================] - 0s 27us/step - loss: 1.6898 - acc: 0.3523 - val_loss: 1.7057 - val_acc: 0.3424\n",
      "Epoch 66/200\n",
      "3750/3750 [==============================] - 0s 23us/step - loss: 1.6852 - acc: 0.3589 - val_loss: 1.7016 - val_acc: 0.3408\n",
      "Epoch 67/200\n",
      "3750/3750 [==============================] - 0s 24us/step - loss: 1.6806 - acc: 0.3637 - val_loss: 1.6977 - val_acc: 0.3432\n",
      "Epoch 68/200\n",
      "3750/3750 [==============================] - 0s 25us/step - loss: 1.6760 - acc: 0.3597 - val_loss: 1.6932 - val_acc: 0.3472\n",
      "Epoch 69/200\n",
      "3750/3750 [==============================] - 0s 31us/step - loss: 1.6714 - acc: 0.3629 - val_loss: 1.6883 - val_acc: 0.3576\n",
      "Epoch 70/200\n",
      "3750/3750 [==============================] - 0s 28us/step - loss: 1.6666 - acc: 0.3723 - val_loss: 1.6839 - val_acc: 0.3616\n",
      "Epoch 71/200\n",
      "3750/3750 [==============================] - 0s 28us/step - loss: 1.6620 - acc: 0.3776 - val_loss: 1.6796 - val_acc: 0.3624\n",
      "Epoch 72/200\n",
      "3750/3750 [==============================] - 0s 29us/step - loss: 1.6573 - acc: 0.3787 - val_loss: 1.6753 - val_acc: 0.3592\n",
      "Epoch 73/200\n",
      "3750/3750 [==============================] - 0s 29us/step - loss: 1.6526 - acc: 0.3803 - val_loss: 1.6712 - val_acc: 0.3608\n",
      "Epoch 74/200\n",
      "3750/3750 [==============================] - 0s 30us/step - loss: 1.6478 - acc: 0.3845 - val_loss: 1.6667 - val_acc: 0.3640\n",
      "Epoch 75/200\n",
      "3750/3750 [==============================] - 0s 29us/step - loss: 1.6431 - acc: 0.3861 - val_loss: 1.6620 - val_acc: 0.3680\n",
      "Epoch 76/200\n",
      "3750/3750 [==============================] - 0s 29us/step - loss: 1.6383 - acc: 0.3883 - val_loss: 1.6576 - val_acc: 0.3696\n",
      "Epoch 77/200\n",
      "3750/3750 [==============================] - 0s 28us/step - loss: 1.6337 - acc: 0.3901 - val_loss: 1.6533 - val_acc: 0.3680\n",
      "Epoch 78/200\n",
      "3750/3750 [==============================] - 0s 30us/step - loss: 1.6287 - acc: 0.3904 - val_loss: 1.6484 - val_acc: 0.3752\n",
      "Epoch 79/200\n",
      "3750/3750 [==============================] - 0s 30us/step - loss: 1.6241 - acc: 0.3941 - val_loss: 1.6440 - val_acc: 0.3736\n",
      "Epoch 80/200\n",
      "3750/3750 [==============================] - 0s 28us/step - loss: 1.6193 - acc: 0.3965 - val_loss: 1.6395 - val_acc: 0.3768\n",
      "Epoch 81/200\n",
      "3750/3750 [==============================] - 0s 29us/step - loss: 1.6144 - acc: 0.4008 - val_loss: 1.6354 - val_acc: 0.3760\n",
      "Epoch 82/200\n",
      "3750/3750 [==============================] - 0s 28us/step - loss: 1.6097 - acc: 0.3997 - val_loss: 1.6313 - val_acc: 0.3792\n",
      "Epoch 83/200\n",
      "3750/3750 [==============================] - 0s 29us/step - loss: 1.6049 - acc: 0.4011 - val_loss: 1.6266 - val_acc: 0.3824\n",
      "Epoch 84/200\n",
      "3750/3750 [==============================] - 0s 30us/step - loss: 1.6001 - acc: 0.4040 - val_loss: 1.6220 - val_acc: 0.3832\n",
      "Epoch 85/200\n",
      "3750/3750 [==============================] - 0s 28us/step - loss: 1.5952 - acc: 0.4024 - val_loss: 1.6172 - val_acc: 0.3904\n",
      "Epoch 86/200\n",
      "3750/3750 [==============================] - 0s 30us/step - loss: 1.5905 - acc: 0.4128 - val_loss: 1.6134 - val_acc: 0.3904\n",
      "Epoch 87/200\n",
      "3750/3750 [==============================] - 0s 31us/step - loss: 1.5857 - acc: 0.4091 - val_loss: 1.6089 - val_acc: 0.3888\n",
      "Epoch 88/200\n",
      "3750/3750 [==============================] - 0s 29us/step - loss: 1.5810 - acc: 0.4136 - val_loss: 1.6048 - val_acc: 0.3912\n",
      "Epoch 89/200\n",
      "3750/3750 [==============================] - 0s 29us/step - loss: 1.5762 - acc: 0.4184 - val_loss: 1.6002 - val_acc: 0.3912\n",
      "Epoch 90/200\n",
      "3750/3750 [==============================] - 0s 30us/step - loss: 1.5715 - acc: 0.4216 - val_loss: 1.5957 - val_acc: 0.3944\n",
      "Epoch 91/200\n",
      "3750/3750 [==============================] - 0s 29us/step - loss: 1.5667 - acc: 0.4240 - val_loss: 1.5914 - val_acc: 0.3944\n",
      "Epoch 92/200\n",
      "3750/3750 [==============================] - 0s 29us/step - loss: 1.5621 - acc: 0.4243 - val_loss: 1.5867 - val_acc: 0.3968\n",
      "Epoch 93/200\n",
      "3750/3750 [==============================] - 0s 30us/step - loss: 1.5573 - acc: 0.4293 - val_loss: 1.5827 - val_acc: 0.3952\n",
      "Epoch 94/200\n",
      "3750/3750 [==============================] - 0s 28us/step - loss: 1.5525 - acc: 0.4291 - val_loss: 1.5781 - val_acc: 0.3992\n",
      "Epoch 95/200\n",
      "3750/3750 [==============================] - 0s 28us/step - loss: 1.5479 - acc: 0.4323 - val_loss: 1.5737 - val_acc: 0.4080\n",
      "Epoch 96/200\n",
      "3750/3750 [==============================] - 0s 31us/step - loss: 1.5432 - acc: 0.4368 - val_loss: 1.5696 - val_acc: 0.4104\n",
      "Epoch 97/200\n",
      "3750/3750 [==============================] - 0s 28us/step - loss: 1.5387 - acc: 0.4360 - val_loss: 1.5656 - val_acc: 0.4080\n",
      "Epoch 98/200\n",
      "3750/3750 [==============================] - 0s 29us/step - loss: 1.5339 - acc: 0.4392 - val_loss: 1.5615 - val_acc: 0.4104\n",
      "Epoch 99/200\n",
      "3750/3750 [==============================] - 0s 29us/step - loss: 1.5293 - acc: 0.4451 - val_loss: 1.5567 - val_acc: 0.4088\n",
      "Epoch 100/200\n",
      "3750/3750 [==============================] - 0s 29us/step - loss: 1.5249 - acc: 0.4469 - val_loss: 1.5525 - val_acc: 0.4120\n",
      "Epoch 101/200\n",
      "3750/3750 [==============================] - 0s 29us/step - loss: 1.5203 - acc: 0.4485 - val_loss: 1.5486 - val_acc: 0.4184\n",
      "Epoch 102/200\n",
      "3750/3750 [==============================] - 0s 29us/step - loss: 1.5159 - acc: 0.4520 - val_loss: 1.5443 - val_acc: 0.4152\n",
      "Epoch 103/200\n",
      "3750/3750 [==============================] - 0s 29us/step - loss: 1.5113 - acc: 0.4547 - val_loss: 1.5404 - val_acc: 0.4160\n",
      "Epoch 104/200\n",
      "3750/3750 [==============================] - 0s 29us/step - loss: 1.5068 - acc: 0.4528 - val_loss: 1.5358 - val_acc: 0.4224\n",
      "Epoch 105/200\n",
      "3750/3750 [==============================] - 0s 30us/step - loss: 1.5025 - acc: 0.4557 - val_loss: 1.5319 - val_acc: 0.4248\n",
      "Epoch 106/200\n",
      "3750/3750 [==============================] - 0s 29us/step - loss: 1.4982 - acc: 0.4645 - val_loss: 1.5285 - val_acc: 0.4232\n",
      "Epoch 107/200\n",
      "3750/3750 [==============================] - 0s 30us/step - loss: 1.4937 - acc: 0.4629 - val_loss: 1.5250 - val_acc: 0.4248\n",
      "Epoch 108/200\n",
      "3750/3750 [==============================] - 0s 28us/step - loss: 1.4893 - acc: 0.4653 - val_loss: 1.5207 - val_acc: 0.4264\n",
      "Epoch 109/200\n",
      "3750/3750 [==============================] - 0s 29us/step - loss: 1.4850 - acc: 0.4651 - val_loss: 1.5167 - val_acc: 0.4280\n",
      "Epoch 110/200\n",
      "3750/3750 [==============================] - 0s 28us/step - loss: 1.4807 - acc: 0.4664 - val_loss: 1.5127 - val_acc: 0.4312\n",
      "Epoch 111/200\n",
      "3750/3750 [==============================] - 0s 29us/step - loss: 1.4766 - acc: 0.4733 - val_loss: 1.5093 - val_acc: 0.4296\n",
      "Epoch 112/200\n",
      "3750/3750 [==============================] - 0s 30us/step - loss: 1.4724 - acc: 0.4715 - val_loss: 1.5053 - val_acc: 0.4320\n",
      "Epoch 113/200\n",
      "3750/3750 [==============================] - 0s 29us/step - loss: 1.4683 - acc: 0.4725 - val_loss: 1.5020 - val_acc: 0.4304\n",
      "Epoch 114/200\n",
      "3750/3750 [==============================] - 0s 31us/step - loss: 1.4639 - acc: 0.4693 - val_loss: 1.4972 - val_acc: 0.4376\n",
      "Epoch 115/200\n",
      "3750/3750 [==============================] - 0s 29us/step - loss: 1.4601 - acc: 0.4763 - val_loss: 1.4940 - val_acc: 0.4368\n",
      "Epoch 116/200\n",
      "3750/3750 [==============================] - 0s 30us/step - loss: 1.4559 - acc: 0.4731 - val_loss: 1.4902 - val_acc: 0.4408\n",
      "Epoch 117/200\n",
      "3750/3750 [==============================] - 0s 30us/step - loss: 1.4520 - acc: 0.4741 - val_loss: 1.4872 - val_acc: 0.4440\n",
      "Epoch 118/200\n",
      "3750/3750 [==============================] - 0s 30us/step - loss: 1.4480 - acc: 0.4776 - val_loss: 1.4833 - val_acc: 0.4448\n",
      "Epoch 119/200\n",
      "3750/3750 [==============================] - 0s 30us/step - loss: 1.4440 - acc: 0.4797 - val_loss: 1.4801 - val_acc: 0.4424\n"
     ]
    },
    {
     "name": "stdout",
     "output_type": "stream",
     "text": [
      "Epoch 120/200\n",
      "3750/3750 [==============================] - 0s 29us/step - loss: 1.4404 - acc: 0.4789 - val_loss: 1.4765 - val_acc: 0.4464\n",
      "Epoch 121/200\n",
      "3750/3750 [==============================] - 0s 28us/step - loss: 1.4365 - acc: 0.4816 - val_loss: 1.4729 - val_acc: 0.4472\n",
      "Epoch 122/200\n",
      "3750/3750 [==============================] - 0s 28us/step - loss: 1.4325 - acc: 0.4819 - val_loss: 1.4700 - val_acc: 0.4472\n",
      "Epoch 123/200\n",
      "3750/3750 [==============================] - 0s 30us/step - loss: 1.4291 - acc: 0.4856 - val_loss: 1.4664 - val_acc: 0.4472\n",
      "Epoch 124/200\n",
      "3750/3750 [==============================] - 0s 29us/step - loss: 1.4251 - acc: 0.4851 - val_loss: 1.4629 - val_acc: 0.4496\n",
      "Epoch 125/200\n",
      "3750/3750 [==============================] - 0s 27us/step - loss: 1.4216 - acc: 0.4811 - val_loss: 1.4597 - val_acc: 0.4512\n",
      "Epoch 126/200\n",
      "3750/3750 [==============================] - 0s 29us/step - loss: 1.4179 - acc: 0.4851 - val_loss: 1.4563 - val_acc: 0.4520\n",
      "Epoch 127/200\n",
      "3750/3750 [==============================] - 0s 28us/step - loss: 1.4144 - acc: 0.4864 - val_loss: 1.4535 - val_acc: 0.4536\n",
      "Epoch 128/200\n",
      "3750/3750 [==============================] - 0s 29us/step - loss: 1.4106 - acc: 0.4867 - val_loss: 1.4499 - val_acc: 0.4576\n",
      "Epoch 129/200\n",
      "3750/3750 [==============================] - 0s 28us/step - loss: 1.4072 - acc: 0.4901 - val_loss: 1.4473 - val_acc: 0.4592\n",
      "Epoch 130/200\n",
      "3750/3750 [==============================] - 0s 28us/step - loss: 1.4038 - acc: 0.4901 - val_loss: 1.4440 - val_acc: 0.4608\n",
      "Epoch 131/200\n",
      "3750/3750 [==============================] - 0s 28us/step - loss: 1.4002 - acc: 0.4920 - val_loss: 1.4406 - val_acc: 0.4576\n",
      "Epoch 132/200\n",
      "3750/3750 [==============================] - 0s 30us/step - loss: 1.3969 - acc: 0.4931 - val_loss: 1.4376 - val_acc: 0.4616\n",
      "Epoch 133/200\n",
      "3750/3750 [==============================] - 0s 28us/step - loss: 1.3935 - acc: 0.4963 - val_loss: 1.4351 - val_acc: 0.4616\n",
      "Epoch 134/200\n",
      "3750/3750 [==============================] - 0s 28us/step - loss: 1.3903 - acc: 0.4955 - val_loss: 1.4321 - val_acc: 0.4648\n",
      "Epoch 135/200\n",
      "3750/3750 [==============================] - 0s 30us/step - loss: 1.3869 - acc: 0.4952 - val_loss: 1.4294 - val_acc: 0.4640\n",
      "Epoch 136/200\n",
      "3750/3750 [==============================] - 0s 28us/step - loss: 1.3836 - acc: 0.4952 - val_loss: 1.4265 - val_acc: 0.4704\n",
      "Epoch 137/200\n",
      "3750/3750 [==============================] - 0s 30us/step - loss: 1.3807 - acc: 0.4997 - val_loss: 1.4235 - val_acc: 0.4640\n",
      "Epoch 138/200\n",
      "3750/3750 [==============================] - 0s 29us/step - loss: 1.3774 - acc: 0.5003 - val_loss: 1.4207 - val_acc: 0.4688\n",
      "Epoch 139/200\n",
      "3750/3750 [==============================] - 0s 28us/step - loss: 1.3743 - acc: 0.5003 - val_loss: 1.4188 - val_acc: 0.4664\n",
      "Epoch 140/200\n",
      "3750/3750 [==============================] - 0s 29us/step - loss: 1.3713 - acc: 0.5035 - val_loss: 1.4157 - val_acc: 0.4680\n",
      "Epoch 141/200\n",
      "3750/3750 [==============================] - 0s 30us/step - loss: 1.3684 - acc: 0.4995 - val_loss: 1.4133 - val_acc: 0.4616\n",
      "Epoch 142/200\n",
      "3750/3750 [==============================] - 0s 29us/step - loss: 1.3652 - acc: 0.5016 - val_loss: 1.4105 - val_acc: 0.4696\n",
      "Epoch 143/200\n",
      "3750/3750 [==============================] - 0s 28us/step - loss: 1.3624 - acc: 0.5032 - val_loss: 1.4081 - val_acc: 0.4688\n",
      "Epoch 144/200\n",
      "3750/3750 [==============================] - 0s 29us/step - loss: 1.3595 - acc: 0.5053 - val_loss: 1.4057 - val_acc: 0.4664\n",
      "Epoch 145/200\n",
      "3750/3750 [==============================] - 0s 29us/step - loss: 1.3565 - acc: 0.5059 - val_loss: 1.4033 - val_acc: 0.4736\n",
      "Epoch 146/200\n",
      "3750/3750 [==============================] - 0s 29us/step - loss: 1.3538 - acc: 0.5027 - val_loss: 1.4004 - val_acc: 0.4752\n",
      "Epoch 147/200\n",
      "3750/3750 [==============================] - 0s 28us/step - loss: 1.3510 - acc: 0.5069 - val_loss: 1.3972 - val_acc: 0.4816\n",
      "Epoch 148/200\n",
      "3750/3750 [==============================] - 0s 29us/step - loss: 1.3484 - acc: 0.5077 - val_loss: 1.3954 - val_acc: 0.4808\n",
      "Epoch 149/200\n",
      "3750/3750 [==============================] - 0s 28us/step - loss: 1.3457 - acc: 0.5077 - val_loss: 1.3926 - val_acc: 0.4832\n",
      "Epoch 150/200\n",
      "3750/3750 [==============================] - 0s 31us/step - loss: 1.3430 - acc: 0.5056 - val_loss: 1.3906 - val_acc: 0.4848\n",
      "Epoch 151/200\n",
      "3750/3750 [==============================] - 0s 30us/step - loss: 1.3404 - acc: 0.5088 - val_loss: 1.3886 - val_acc: 0.4808\n",
      "Epoch 152/200\n",
      "3750/3750 [==============================] - 0s 28us/step - loss: 1.3377 - acc: 0.5104 - val_loss: 1.3871 - val_acc: 0.4848\n",
      "Epoch 153/200\n",
      "3750/3750 [==============================] - 0s 29us/step - loss: 1.3353 - acc: 0.5064 - val_loss: 1.3844 - val_acc: 0.4824\n",
      "Epoch 154/200\n",
      "3750/3750 [==============================] - 0s 28us/step - loss: 1.3325 - acc: 0.5093 - val_loss: 1.3822 - val_acc: 0.4888\n",
      "Epoch 155/200\n",
      "3750/3750 [==============================] - 0s 28us/step - loss: 1.3300 - acc: 0.5115 - val_loss: 1.3800 - val_acc: 0.4880\n",
      "Epoch 156/200\n",
      "3750/3750 [==============================] - 0s 28us/step - loss: 1.3276 - acc: 0.5104 - val_loss: 1.3774 - val_acc: 0.4896\n",
      "Epoch 157/200\n",
      "3750/3750 [==============================] - 0s 29us/step - loss: 1.3251 - acc: 0.5123 - val_loss: 1.3754 - val_acc: 0.4880\n",
      "Epoch 158/200\n",
      "3750/3750 [==============================] - 0s 30us/step - loss: 1.3226 - acc: 0.5117 - val_loss: 1.3735 - val_acc: 0.4920\n",
      "Epoch 159/200\n",
      "3750/3750 [==============================] - 0s 30us/step - loss: 1.3203 - acc: 0.5144 - val_loss: 1.3722 - val_acc: 0.4888\n",
      "Epoch 160/200\n",
      "3750/3750 [==============================] - 0s 29us/step - loss: 1.3181 - acc: 0.5133 - val_loss: 1.3698 - val_acc: 0.4968\n",
      "Epoch 161/200\n",
      "3750/3750 [==============================] - 0s 30us/step - loss: 1.3156 - acc: 0.5117 - val_loss: 1.3676 - val_acc: 0.4976\n",
      "Epoch 162/200\n",
      "3750/3750 [==============================] - 0s 29us/step - loss: 1.3132 - acc: 0.5128 - val_loss: 1.3658 - val_acc: 0.4968\n",
      "Epoch 163/200\n",
      "3750/3750 [==============================] - 0s 28us/step - loss: 1.3111 - acc: 0.5189 - val_loss: 1.3637 - val_acc: 0.4920\n",
      "Epoch 164/200\n",
      "3750/3750 [==============================] - 0s 29us/step - loss: 1.3088 - acc: 0.5141 - val_loss: 1.3624 - val_acc: 0.4936\n",
      "Epoch 165/200\n",
      "3750/3750 [==============================] - 0s 29us/step - loss: 1.3065 - acc: 0.5189 - val_loss: 1.3613 - val_acc: 0.4944\n",
      "Epoch 166/200\n",
      "3750/3750 [==============================] - 0s 28us/step - loss: 1.3047 - acc: 0.5187 - val_loss: 1.3591 - val_acc: 0.4944\n",
      "Epoch 167/200\n",
      "3750/3750 [==============================] - 0s 28us/step - loss: 1.3024 - acc: 0.5147 - val_loss: 1.3566 - val_acc: 0.4968\n",
      "Epoch 168/200\n",
      "3750/3750 [==============================] - 0s 29us/step - loss: 1.3002 - acc: 0.5224 - val_loss: 1.3547 - val_acc: 0.4952\n",
      "Epoch 169/200\n",
      "3750/3750 [==============================] - 0s 29us/step - loss: 1.2982 - acc: 0.5184 - val_loss: 1.3530 - val_acc: 0.4976\n",
      "Epoch 170/200\n",
      "3750/3750 [==============================] - 0s 28us/step - loss: 1.2961 - acc: 0.5224 - val_loss: 1.3516 - val_acc: 0.4944\n",
      "Epoch 171/200\n",
      "3750/3750 [==============================] - 0s 30us/step - loss: 1.2942 - acc: 0.5221 - val_loss: 1.3492 - val_acc: 0.4968\n",
      "Epoch 172/200\n",
      "3750/3750 [==============================] - 0s 29us/step - loss: 1.2922 - acc: 0.5227 - val_loss: 1.3485 - val_acc: 0.5016\n",
      "Epoch 173/200\n",
      "3750/3750 [==============================] - 0s 29us/step - loss: 1.2902 - acc: 0.5267 - val_loss: 1.3465 - val_acc: 0.4992\n",
      "Epoch 174/200\n",
      "3750/3750 [==============================] - 0s 29us/step - loss: 1.2882 - acc: 0.5235 - val_loss: 1.3446 - val_acc: 0.4976\n",
      "Epoch 175/200\n",
      "3750/3750 [==============================] - 0s 28us/step - loss: 1.2863 - acc: 0.5256 - val_loss: 1.3437 - val_acc: 0.5024\n",
      "Epoch 176/200\n",
      "3750/3750 [==============================] - 0s 30us/step - loss: 1.2840 - acc: 0.5267 - val_loss: 1.3430 - val_acc: 0.5024\n",
      "Epoch 177/200\n",
      "3750/3750 [==============================] - 0s 30us/step - loss: 1.2824 - acc: 0.5235 - val_loss: 1.3416 - val_acc: 0.5008\n",
      "Epoch 178/200\n",
      "3750/3750 [==============================] - 0s 29us/step - loss: 1.2810 - acc: 0.5275 - val_loss: 1.3388 - val_acc: 0.5016\n",
      "Epoch 179/200\n"
     ]
    },
    {
     "name": "stdout",
     "output_type": "stream",
     "text": [
      "3750/3750 [==============================] - 0s 29us/step - loss: 1.2785 - acc: 0.5261 - val_loss: 1.3366 - val_acc: 0.5032\n",
      "Epoch 180/200\n",
      "3750/3750 [==============================] - 0s 29us/step - loss: 1.2771 - acc: 0.5259 - val_loss: 1.3362 - val_acc: 0.5040\n",
      "Epoch 181/200\n",
      "3750/3750 [==============================] - 0s 28us/step - loss: 1.2754 - acc: 0.5293 - val_loss: 1.3337 - val_acc: 0.5064\n",
      "Epoch 182/200\n",
      "3750/3750 [==============================] - 0s 28us/step - loss: 1.2739 - acc: 0.5325 - val_loss: 1.3329 - val_acc: 0.5072\n",
      "Epoch 183/200\n",
      "3750/3750 [==============================] - 0s 28us/step - loss: 1.2718 - acc: 0.5307 - val_loss: 1.3315 - val_acc: 0.5024\n",
      "Epoch 184/200\n",
      "3750/3750 [==============================] - 0s 28us/step - loss: 1.2702 - acc: 0.5312 - val_loss: 1.3297 - val_acc: 0.5032\n",
      "Epoch 185/200\n",
      "3750/3750 [==============================] - 0s 28us/step - loss: 1.2681 - acc: 0.5325 - val_loss: 1.3277 - val_acc: 0.5072\n",
      "Epoch 186/200\n",
      "3750/3750 [==============================] - 0s 28us/step - loss: 1.2669 - acc: 0.5304 - val_loss: 1.3271 - val_acc: 0.5024\n",
      "Epoch 187/200\n",
      "3750/3750 [==============================] - 0s 30us/step - loss: 1.2651 - acc: 0.5341 - val_loss: 1.3262 - val_acc: 0.5040\n",
      "Epoch 188/200\n",
      "3750/3750 [==============================] - 0s 27us/step - loss: 1.2635 - acc: 0.5320 - val_loss: 1.3245 - val_acc: 0.5048\n",
      "Epoch 189/200\n",
      "3750/3750 [==============================] - 0s 28us/step - loss: 1.2620 - acc: 0.5320 - val_loss: 1.3238 - val_acc: 0.5088\n",
      "Epoch 190/200\n",
      "3750/3750 [==============================] - 0s 29us/step - loss: 1.2603 - acc: 0.5347 - val_loss: 1.3225 - val_acc: 0.5040\n",
      "Epoch 191/200\n",
      "3750/3750 [==============================] - 0s 28us/step - loss: 1.2584 - acc: 0.5349 - val_loss: 1.3211 - val_acc: 0.5064\n",
      "Epoch 192/200\n",
      "3750/3750 [==============================] - 0s 29us/step - loss: 1.2570 - acc: 0.5373 - val_loss: 1.3214 - val_acc: 0.5064\n",
      "Epoch 193/200\n",
      "3750/3750 [==============================] - 0s 28us/step - loss: 1.2558 - acc: 0.5333 - val_loss: 1.3188 - val_acc: 0.5088\n",
      "Epoch 194/200\n",
      "3750/3750 [==============================] - 0s 29us/step - loss: 1.2538 - acc: 0.5355 - val_loss: 1.3173 - val_acc: 0.5088\n",
      "Epoch 195/200\n",
      "3750/3750 [==============================] - 0s 28us/step - loss: 1.2528 - acc: 0.5368 - val_loss: 1.3159 - val_acc: 0.5096\n",
      "Epoch 196/200\n",
      "3750/3750 [==============================] - 0s 31us/step - loss: 1.2509 - acc: 0.5363 - val_loss: 1.3137 - val_acc: 0.5160\n",
      "Epoch 197/200\n",
      "3750/3750 [==============================] - 0s 31us/step - loss: 1.2499 - acc: 0.5352 - val_loss: 1.3140 - val_acc: 0.5136\n",
      "Epoch 198/200\n",
      "3750/3750 [==============================] - 0s 31us/step - loss: 1.2484 - acc: 0.5403 - val_loss: 1.3117 - val_acc: 0.5128\n",
      "Epoch 199/200\n",
      "3750/3750 [==============================] - 0s 30us/step - loss: 1.2470 - acc: 0.5397 - val_loss: 1.3113 - val_acc: 0.5160\n",
      "Epoch 200/200\n",
      "3750/3750 [==============================] - 0s 29us/step - loss: 1.2456 - acc: 0.5389 - val_loss: 1.3097 - val_acc: 0.5200\n"
     ]
    }
   ],
   "source": [
    "history = model.fit(X_train, y_train, epochs=200, batch_size=64, validation_split=.25);"
   ]
  },
  {
   "cell_type": "code",
   "execution_count": 66,
   "metadata": {},
   "outputs": [
    {
     "name": "stderr",
     "output_type": "stream",
     "text": [
      "C:\\Users\\David\\Anaconda3\\envs\\Connect-Four\\lib\\site-packages\\matplotlib\\figure.py:1743: UserWarning: This figure includes Axes that are not compatible with tight_layout, so its results might be incorrect.\n",
      "  warnings.warn(\"This figure includes Axes that are not \"\n"
     ]
    },
    {
     "data": {
      "image/png": "[encoded data removed]",
      "text/plain": [
       "<matplotlib.figure.Figure at 0x178a77fd208>"
      ]
     },
     "metadata": {},
     "output_type": "display_data"
    }
   ],
   "source": [
    "measures = np.unique([k.replace('val_', '') for k in history.history.keys()])\n",
    "n = len(measures)\n",
    "x = np.arange(len(history.history[measures[0]]))\n",
    "fig, axs = plt.subplots(n, 1, squeeze=True, sharex=True, figsize=(6, 2*n), tight_layout=True)\n",
    "for i, m in enumerate(measures):\n",
    "    axs[i].plot(x, history.history[m], label=m)\n",
    "    if f\"val_{m}\" in history.history.keys():\n",
    "        axs[i].plot(x, history.history[f\"val_{m}\"], label=f\"val_{m}\")\n",
    "    if m == \"acc\":\n",
    "        axs[i].set_ylim((-0.01, 1.01))\n",
    "    axs[i].legend()\n",
    "axs[-1].set_xlabel(\"epoch\");"
   ]
  },
  {
   "cell_type": "markdown",
   "metadata": {},
   "source": [
    "The model picks the correct choice ~50% of the time, which is better than random chance (1/7th, or 14.3% of the time)"
   ]
  },
  {
   "cell_type": "markdown",
   "metadata": {},
   "source": [
    "Next will be to try convolution: `https://keras.io/api/layers/convolution_layers/convolution2d/`"
   ]
  }
 ],
 "metadata": {
  "kernelspec": {
   "display_name": "Conda Connect-Four",
   "language": "python",
   "name": "connect-four"
  },
  "language_info": {
   "codemirror_mode": {
    "name": "ipython",
    "version": 3
   },
   "file_extension": ".py",
   "mimetype": "text/x-python",
   "name": "python",
   "nbconvert_exporter": "python",
   "pygments_lexer": "ipython3",
   "version": "3.6.2"
  }
 },
 "nbformat": 4,
 "nbformat_minor": 2
}

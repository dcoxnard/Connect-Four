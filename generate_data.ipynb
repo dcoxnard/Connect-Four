{
 "cells": [
  {
   "cell_type": "markdown",
   "metadata": {},
   "source": [
    "`python -m ipykernel install --user --name Connect-Four --display-name \"Conda Connect-Four\"`"
   ]
  },
  {
   "cell_type": "code",
   "execution_count": 47,
   "metadata": {},
   "outputs": [],
   "source": [
    "import os\n",
    "import glob\n",
    "import time\n",
    "import numpy as np\n",
    "import pandas as pd\n",
    "from game import game"
   ]
  },
  {
   "cell_type": "code",
   "execution_count": 106,
   "metadata": {},
   "outputs": [],
   "source": [
    "def swap_tokens(x):\n",
    "    \"\"\"\n",
    "    Maps 0 --> 0\n",
    "         1 --> 2\n",
    "         2 --> 1\n",
    "    \"\"\"\n",
    "    return ((x * 2) % 3) * np.sign(x)"
   ]
  },
  {
   "cell_type": "code",
   "execution_count": 99,
   "metadata": {},
   "outputs": [
    {
     "name": "stdout",
     "output_type": "stream",
     "text": [
      "out_dir already_exists at: generated_games\n"
     ]
    }
   ],
   "source": [
    "# Create out_dir if it doesn't already exist\n",
    "out_dir = \"generated_games\"\n",
    "if not os.path.isdir(out_dir):\n",
    "    os.mkdir(out_dir)\n",
    "    print(f\"out_dir created at: {out_dir}\")\n",
    "else:\n",
    "    print(f\"out_dir already_exists at: {out_dir}\")"
   ]
  },
  {
   "cell_type": "code",
   "execution_count": 115,
   "metadata": {},
   "outputs": [
    {
     "name": "stdout",
     "output_type": "stream",
     "text": [
      "246125 lines found in generated_games\\random_choice_games.csv (46.07 MB)\n"
     ]
    }
   ],
   "source": [
    "# View any existing data\n",
    "\n",
    "if os.path.exists(out_dir):\n",
    "    csvs = glob.glob(os.path.join(out_dir, \"*.csv\"))\n",
    "    if csvs:\n",
    "        for csv in csvs:\n",
    "            with open(csv) as f_obj:\n",
    "                num_lines = sum(1 for line in f_obj)\n",
    "                mb = round(os.path.getsize(csv) / 1e6, 2)\n",
    "                print(f\"{num_lines} lines found in {csv} ({mb} MB)\")\n",
    "    else:\n",
    "        print(\"No csv data found.\")\n",
    "else:\n",
    "    print(\"No csv data found.\")"
   ]
  },
  {
   "cell_type": "code",
   "execution_count": 114,
   "metadata": {},
   "outputs": [
    {
     "name": "stdout",
     "output_type": "stream",
     "text": [
      "Wrote 223249 lines to generated_games\\random_choice_games.csv\n",
      "Data generation took 151.644 seconds\n"
     ]
    }
   ],
   "source": [
    "# Run games and append to existing data\n",
    "\n",
    "# Configuration\n",
    "GAME_BATCH_SIZE = 10000\n",
    "\n",
    "# Play games\n",
    "start = time.time()\n",
    "games = game.play_n_games(GAME_BATCH_SIZE)\n",
    "accumulator = []\n",
    "\n",
    "# Create DataFrame\n",
    "n_rows = games[0][\"states\"][0].shape[0]\n",
    "n_cols = games[0][\"states\"][0].shape[1]\n",
    "columns = [f\"position_{i}\" for i in range(n_cols * n_rows)]\n",
    "for g in games:\n",
    "    winner_token = g[\"winner\"]\n",
    "    \n",
    "    if winner_token == 1:\n",
    "        records = [state.flatten() for state in g[\"states\"]]\n",
    "    elif winner_token == 2:\n",
    "        records = [swap_tokens(state.flatten()) for state in g[\"states\"]]\n",
    "    states_data = pd.DataFrame.from_records(records, columns=columns)\n",
    "    \n",
    "    num_turns = states_data.shape[0]\n",
    "    reward = np.logspace(-2, 0, num=num_turns)\n",
    "    states_data[\"reward\"] = reward\n",
    "    \n",
    "    accumulator.append(states_data)\n",
    "\n",
    "data = pd.concat(accumulator)\n",
    "\n",
    "\n",
    "# Append to an existing file, if such a file exists\n",
    "fname = os.path.join(out_dir, \"random_choice_games.csv\")\n",
    "if os.path.isfile(fname):\n",
    "    data.to_csv(fname, mode='a', header=False, index=False)\n",
    "else:\n",
    "    data.to_csv(fname, index=False)\n",
    "print(f\"Wrote {data.shape[0]} lines to {fname}\")\n",
    "    \n",
    "end = time.time()\n",
    "print(f\"Data generation took {round(end - start, 3)} seconds\")"
   ]
  },
  {
   "cell_type": "code",
   "execution_count": 103,
   "metadata": {},
   "outputs": [],
   "source": [
    "# Clear all existing data\n",
    "TURN_ON = False\n",
    "\n",
    "if TURN_ON and os.path.exists(out_dir):\n",
    "    csvs = glob.glob(os.path.join(out_dir, \"*.csv\"))\n",
    "    for csv in csvs:\n",
    "        os.remove(csv)\n",
    "        print(f\"{csv} deleted\")\n",
    "if not TURN_ON:\n",
    "    print(\"Data not deleted\")"
   ]
  }
 ],
 "metadata": {
  "kernelspec": {
   "display_name": "Conda Connect-Four",
   "language": "python",
   "name": "connect-four"
  },
  "language_info": {
   "codemirror_mode": {
    "name": "ipython",
    "version": 3
   },
   "file_extension": ".py",
   "mimetype": "text/x-python",
   "name": "python",
   "nbconvert_exporter": "python",
   "pygments_lexer": "ipython3",
   "version": "3.6.2"
  }
 },
 "nbformat": 4,
 "nbformat_minor": 2
}

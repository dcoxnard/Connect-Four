{
 "cells": [
  {
   "cell_type": "markdown",
   "metadata": {},
   "source": [
    "`python -m ipykernel install --user --name Connect-Four --display-name \"Conda Connect-Four\"`"
   ]
  },
  {
   "cell_type": "code",
   "execution_count": 1,
   "metadata": {
    "collapsed": true
   },
   "outputs": [],
   "source": [
    "import os\n",
    "import glob\n",
    "import time\n",
    "import numpy as np\n",
    "import pandas as pd\n",
    "from game import game"
   ]
  },
  {
   "cell_type": "code",
   "execution_count": 2,
   "metadata": {
    "collapsed": true
   },
   "outputs": [],
   "source": [
    "def swap_tokens(x):\n",
    "    \"\"\"\n",
    "    Maps 0 --> 0\n",
    "         1 --> 2\n",
    "         2 --> 1\n",
    "    \"\"\"\n",
    "    return ((x * 2) % 3) * np.sign(x)"
   ]
  },
  {
   "cell_type": "code",
   "execution_count": 3,
   "metadata": {},
   "outputs": [
    {
     "name": "stdout",
     "output_type": "stream",
     "text": [
      "out_dir already_exists at: generated_games\n"
     ]
    }
   ],
   "source": [
    "# Create out_dir if it doesn't already exist\n",
    "out_dir = \"generated_games\"\n",
    "if not os.path.isdir(out_dir):\n",
    "    os.mkdir(out_dir)\n",
    "    print(f\"out_dir created at: {out_dir}\")\n",
    "else:\n",
    "    print(f\"out_dir already_exists at: {out_dir}\")"
   ]
  },
  {
   "cell_type": "code",
   "execution_count": 9,
   "metadata": {},
   "outputs": [
    {
     "name": "stdout",
     "output_type": "stream",
     "text": [
      "218174 lines found in generated_games\\random_choice_games.csv (38.5 MB)\n"
     ]
    }
   ],
   "source": [
    "# View any existing data\n",
    "\n",
    "if os.path.exists(out_dir):\n",
    "    csvs = glob.glob(os.path.join(out_dir, \"*.csv\"))\n",
    "    if csvs:\n",
    "        for csv in csvs:\n",
    "            with open(csv) as f_obj:\n",
    "                num_lines = sum(1 for line in f_obj)\n",
    "                mb = round(os.path.getsize(csv) / 1e6, 2)\n",
    "                print(f\"{num_lines} lines found in {csv} ({mb} MB)\")\n",
    "    else:\n",
    "        print(\"No csv data found.\")\n",
    "else:\n",
    "    print(\"No csv data found.\")"
   ]
  },
  {
   "cell_type": "code",
   "execution_count": 8,
   "metadata": {},
   "outputs": [
    {
     "name": "stdout",
     "output_type": "stream",
     "text": [
      "Wrote 218173 lines to generated_games\\random_choice_games.csv\n",
      "Data generation took 275.603 seconds\n"
     ]
    }
   ],
   "source": [
    "# Run games and append to existing data\n",
    "\n",
    "# Configuration\n",
    "GAME_BATCH_SIZE = 20000\n",
    "\n",
    "# Play games\n",
    "start = time.time()\n",
    "games = game.play_n_games(GAME_BATCH_SIZE)\n",
    "accumulator = []\n",
    "\n",
    "# Create DataFrame\n",
    "n_rows = games[0][\"states\"][0].shape[0]\n",
    "n_cols = games[0][\"states\"][0].shape[1]\n",
    "columns = [f\"position_{i}\" for i in range(n_cols * n_rows)]\n",
    "game_no = 0\n",
    "for g in games:\n",
    "    winner_token = g[\"winner\"]\n",
    "    \n",
    "    # No choice or reward associated with first, \"blank-board\" state\n",
    "    if winner_token == 1:\n",
    "        records = [state.flatten() for state in g[\"states\"][0::2]]\n",
    "        choices = g[\"choices\"][0::2]\n",
    "    elif winner_token == 2:\n",
    "        records = [swap_tokens(state.flatten()) for state in g[\"states\"][1::2]]\n",
    "        choices = g[\"choices\"][1::2]\n",
    "    states_data = pd.DataFrame.from_records(records, columns=columns)\n",
    "    \n",
    "    states_data[\"game_no\"] = game_no\n",
    "    states_data[\"choice\"] = choices\n",
    "    \n",
    "    accumulator.append(states_data)\n",
    "    game_no += 1\n",
    "\n",
    "data = pd.concat(accumulator)\n",
    "\n",
    "\n",
    "# Append to an existing file, if such a file exists\n",
    "fname = os.path.join(out_dir, \"random_choice_games.csv\")\n",
    "if os.path.isfile(fname):\n",
    "    data.to_csv(fname, mode='a', header=False, index=False)\n",
    "else:\n",
    "    data.to_csv(fname, index=False)\n",
    "print(f\"Wrote {data.shape[0]} lines to {fname}\")\n",
    "    \n",
    "end = time.time()\n",
    "print(f\"Data generation took {round(end - start, 3)} seconds\")"
   ]
  },
  {
   "cell_type": "code",
   "execution_count": 6,
   "metadata": {},
   "outputs": [
    {
     "name": "stdout",
     "output_type": "stream",
     "text": [
      "Data not deleted\n"
     ]
    }
   ],
   "source": [
    "# Clear all existing data\n",
    "TURN_ON = False\n",
    "\n",
    "if TURN_ON and os.path.exists(out_dir):\n",
    "    csvs = glob.glob(os.path.join(out_dir, \"*.csv\"))\n",
    "    for csv in csvs:\n",
    "        os.remove(csv)\n",
    "        print(f\"{csv} deleted\")\n",
    "if not TURN_ON:\n",
    "    print(\"Data not deleted\")"
   ]
  }
 ],
 "metadata": {
  "kernelspec": {
   "display_name": "Conda Connect-Four",
   "language": "python",
   "name": "connect-four"
  },
  "language_info": {
   "codemirror_mode": {
    "name": "ipython",
    "version": 3
   },
   "file_extension": ".py",
   "mimetype": "text/x-python",
   "name": "python",
   "nbconvert_exporter": "python",
   "pygments_lexer": "ipython3",
   "version": "3.6.2"
  }
 },
 "nbformat": 4,
 "nbformat_minor": 2
}

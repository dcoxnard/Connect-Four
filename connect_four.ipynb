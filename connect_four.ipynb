{
 "cells": [
  {
   "cell_type": "markdown",
   "metadata": {},
   "source": [
    "# Connect Four Reinforcement Learning Project\n",
    "\n",
    "With this project, I aim to build a machine learning model that can play and win a game of Connect Four. To do this, I intend to use a reinforcement learning framework to train the model to recognize the correct move to make at each turn in the game.\n",
    "\n",
    "Connect Four is a 2-player board game with simpe rules.  The board is a 6x7 grid (six rows, seven columns) that stands upright.  Both players take turns placing their pieces, which are marked with different colors, into the columns of the board.  Since the board stands upright, when a player places his or her piece into a column, the piece falls down to fill the bottommost empty slot.  The goal of the game is to place your pieces such that they form a straight line of four adjacent pieces; the line can be vertical, horizontal, or diagonal.\n",
    "\n",
    "I used to play this game a lot when I was about 10 years old, and from what I remember of playing the game, the first few moves tend to involve some randomness and \"creativity,\" but specific strategies take over as the board takes shape.  For example, later in the game, it is smart to place your pieces to \"block\" your opponent from creating a \"run\" of 3 pieces.  As another example, it is good strategy to try and create two \"runs\" of three pieces, either of which can be played on for a win -- and to prevent your opponent from doing the same."
   ]
  },
  {
   "cell_type": "markdown",
   "metadata": {},
   "source": [
    "## Creating the game environment\n",
    "\n",
    "The first stage of this project is to build a Python function, `play_game()` that plays a game of Connect Four with two opponents making random placements on each turn.  Numpy's base `NDArray` class is an ideal tool to use to model the game board and its evolution over the course of the game.  Below are a number of helper functions that `play_game()` will call over the course of a game."
   ]
  },
  {
   "cell_type": "code",
   "execution_count": 1,
   "metadata": {
    "ExecuteTime": {
     "end_time": "2018-01-23T00:37:49.831502Z",
     "start_time": "2018-01-23T00:37:49.412642Z"
    },
    "collapsed": true
   },
   "outputs": [],
   "source": [
    "import numpy as np"
   ]
  },
  {
   "cell_type": "markdown",
   "metadata": {},
   "source": [
    "The classic Connect Four game is played on a 6x7 grid.  I will set these dimensions here so that I can pass them through my `play_game()` function, and leave open the possibility of modifying them in the future."
   ]
  },
  {
   "cell_type": "code",
   "execution_count": 2,
   "metadata": {
    "ExecuteTime": {
     "end_time": "2018-01-23T00:37:49.837558Z",
     "start_time": "2018-01-23T00:37:49.833564Z"
    },
    "collapsed": true
   },
   "outputs": [],
   "source": [
    "b_d = (6, 7)\n",
    "# diagnosic_board = np.arange(b_d[0]*b_d[1]).reshape(b_d)"
   ]
  },
  {
   "cell_type": "markdown",
   "metadata": {},
   "source": [
    "As a first step, initialize an empty board, represented by an Numpy `NDArray` of zeros.  The number zero will represent an empty slot in the board."
   ]
  },
  {
   "cell_type": "code",
   "execution_count": 3,
   "metadata": {
    "ExecuteTime": {
     "end_time": "2018-01-23T00:37:50.021974Z",
     "start_time": "2018-01-23T00:37:50.014262Z"
    },
    "collapsed": true
   },
   "outputs": [],
   "source": [
    "def make_board(board_dim):\n",
    "    \"\"\"\n",
    "    Initialize empty board with passed dimensions.\n",
    "    \"\"\"\n",
    "    board = np.zeros(board_dim)\n",
    "    return board"
   ]
  },
  {
   "cell_type": "markdown",
   "metadata": {},
   "source": [
    "The `make_choice()` function serves to generate the chosen placement of a player.  At any point in the game, a player has 7 possible moves (potentially fewer, actually, since as the game progresses the columns get filled so they cannot hold any more pieces).  At first, I will model a player's choice with a simple random draw between the seven columns.  Later, I want to pass a prediction model to the function to allow a player to predict what to do by maximizing the expected \"reward,\" given the current board state.  In either case, whether making a random choice or a predicted choice, the function returns an integer corresponding to the column number where the player will place his or her piece."
   ]
  },
  {
   "cell_type": "code",
   "execution_count": 4,
   "metadata": {
    "ExecuteTime": {
     "end_time": "2018-01-23T00:37:50.350229Z",
     "start_time": "2018-01-23T00:37:50.344078Z"
    },
    "collapsed": true,
    "scrolled": false
   },
   "outputs": [],
   "source": [
    "def make_choice(model, board):\n",
    "    \"\"\"\n",
    "    If no prediciton model is passed,\n",
    "    return a random choice of column to place a piece.\n",
    "    Otherwise, use the model to choose the column with \n",
    "    the highest predicted reward.\n",
    "    \"\"\"\n",
    "    if not model:\n",
    "        choice = np.random.randint(0, 7)\n",
    "    else:\n",
    "        choice = predict_choice(model, board)\n",
    "    return choice"
   ]
  },
  {
   "cell_type": "markdown",
   "metadata": {},
   "source": [
    "The `predict_choice()` function is called when a player is using a model to predict the best move (as opposed to making a random move).  The function takes the prediction model and the current board state, and returns the move (column number) with the corresponding highest predicted \"reward.\""
   ]
  },
  {
   "cell_type": "code",
   "execution_count": 5,
   "metadata": {
    "ExecuteTime": {
     "end_time": "2018-01-23T00:37:50.686006Z",
     "start_time": "2018-01-23T00:37:50.677375Z"
    },
    "collapsed": true
   },
   "outputs": [],
   "source": [
    "def predict_choice(model, board):\n",
    "    \"\"\"\n",
    "    Return predictions of reward for each column.\n",
    "    Return the choice with the highest predicted reward.\n",
    "    \"\"\"\n",
    "    flat_board = board.flatten()\n",
    "    X_pred = np.zeros((7, 43))\n",
    "    for i in range(7):\n",
    "        X_pred[i][0] = i\n",
    "        for j in range(len(flat_board)):\n",
    "            X_pred[i][j+1] = flat_board[j]\n",
    "    X = pd.DataFrame(X_pred)\n",
    "    y_hat = model.predict(X)\n",
    "    return np.argmax(y_hat)"
   ]
  },
  {
   "cell_type": "markdown",
   "metadata": {},
   "source": [
    "In Connect Four, a piece is placed by choosing a column, after which the piece occupies the current bottommost empty slot for the rest of the game.  In meatspace, this is done by dropping a piece (token) into the upright game board, and letting the piece fall down so that it either rests on the bottommost row, or on top of another piece.  In this simulation, the `place_token()` function finds the correct landing place of the token by finding the bottomost empty cell in the `NDArray` (represented by a zero) and changes the state of that cell to the player's token.  A token placed by player 1 is represented by a 1, and a token placed by player 2 is represented by a 2."
   ]
  },
  {
   "cell_type": "code",
   "execution_count": 6,
   "metadata": {
    "ExecuteTime": {
     "end_time": "2018-01-23T00:37:51.036497Z",
     "start_time": "2018-01-23T00:37:51.029098Z"
    },
    "collapsed": true
   },
   "outputs": [],
   "source": [
    "def place_token(board, choice, player_number):\n",
    "    \"\"\"\n",
    "    Simulate the effect of gravity when placing a piece.\n",
    "    Searches for the bottommost empty slot in the given column,\n",
    "    and returns the updated board state.\n",
    "    \"\"\"\n",
    "    placed = False\n",
    "    while not placed:\n",
    "        for row in range(board.shape[0]-1, -1, -1):\n",
    "            if board[row][choice] == 0:\n",
    "                board[row][choice] = player_number\n",
    "                placed = True\n",
    "                break\n",
    "    return board"
   ]
  },
  {
   "cell_type": "markdown",
   "metadata": {},
   "source": [
    "After each token is placed, the `play_game()` function will check for end-of-game conditions by calling the `check_win()` function below.  This function checks whether the entire board has been filled (in which case the game is a draw), and then calls separate helper functions to determine if there is a win in a row, column, or along a diagonal.\n",
    "\n",
    "**NOTE:** This implementation has a flaw: the check for a draw happens by checking if all the slots are filled, in which case the game is determined to be a draw.  This check happens first, before the winning conditions are checked.  If a game were to result in a win when the last remaining board space is filled, this function will incorrectly return a Draw instead of a Win.  This needs to be changed so that the win conditions are checked _first_, before the draw condition."
   ]
  },
  {
   "cell_type": "code",
   "execution_count": 7,
   "metadata": {
    "ExecuteTime": {
     "end_time": "2018-01-23T00:37:51.386460Z",
     "start_time": "2018-01-23T00:37:51.373679Z"
    },
    "collapsed": true
   },
   "outputs": [],
   "source": [
    "def check_win(board, player_number):\n",
    "    \"\"\"\n",
    "    Complete check of the board for win and draw conditions.\n",
    "    Each of row, column, and diagonal win are delegrated\n",
    "    to helper functions.\n",
    "    Checks for draw last by looking whether there are any\n",
    "    remaining open spaces.\n",
    "    \"\"\"\n",
    "    if np.count_nonzero(board) == board.shape[0] * board.shape[1]:\n",
    "        return \"DRAW\"\n",
    "    elif check_row_win(board, player_number):\n",
    "        return \"WIN - ROW\"\n",
    "    elif check_col_win(board, player_number):\n",
    "        return \"WIN - COLUMN\"\n",
    "    elif check_diag_win(board, player_number):\n",
    "        return \"WIN - DIAGONAL\"\n",
    "    else:\n",
    "        return False"
   ]
  },
  {
   "cell_type": "markdown",
   "metadata": {},
   "source": [
    "`check_row_win()` iterates through the cells of the `NDArray` to check whether four slots are occupied by one player's tokens.  If so, the function will return a value of True, which `check_win()` will recognize as a row win.\n",
    "\n",
    "In the future, the function could be rewrittten so that the number of adjacent pieces required to win could be passed as an argument.  That is, if I were interested in playing \"Connect Two\" or \"Connect Thirty,\" this would be one of the places to modify the code."
   ]
  },
  {
   "cell_type": "code",
   "execution_count": 8,
   "metadata": {
    "ExecuteTime": {
     "end_time": "2018-01-23T00:37:51.711762Z",
     "start_time": "2018-01-23T00:37:51.701590Z"
    },
    "collapsed": true
   },
   "outputs": [],
   "source": [
    "def check_row_win(board, player_number):\n",
    "    \"\"\"\n",
    "    Checks whether any horizontal run of four pieces belongs\n",
    "    to the same player.\n",
    "    \"\"\"\n",
    "    found = False\n",
    "    for row in range(board.shape[0]):\n",
    "        for i in range(board.shape[1] - 3):\n",
    "            if np.array_equal(board[row][i:i+4], np.full(4, player_number)):\n",
    "                found = True\n",
    "                break\n",
    "    return found"
   ]
  },
  {
   "cell_type": "markdown",
   "metadata": {},
   "source": [
    "`check_col_win()` does the same thing, iterating through the columns of the board to check whether the win condition has been met."
   ]
  },
  {
   "cell_type": "code",
   "execution_count": 9,
   "metadata": {
    "ExecuteTime": {
     "end_time": "2018-01-23T00:37:52.048296Z",
     "start_time": "2018-01-23T00:37:52.039449Z"
    },
    "collapsed": true
   },
   "outputs": [],
   "source": [
    "def check_col_win(board, player_number):\n",
    "    \"\"\"\n",
    "    Checks whether any vertical run of four pieces is \n",
    "    owned by the same player.\n",
    "    \"\"\"\n",
    "    found = False\n",
    "    board_transposed = np.transpose(board)\n",
    "    for row in range(board_transposed.shape[0]):\n",
    "        for i in range(board_transposed.shape[1] - 3):\n",
    "            if np.array_equal(board_transposed[row][i:i+4], np.full(4, player_number)):\n",
    "                found = True\n",
    "                break\n",
    "    return found"
   ]
  },
  {
   "cell_type": "markdown",
   "metadata": {},
   "source": [
    "`check_diag_win()` is the most involved of the three functions that check the `NDArray` for a winning configuration.  I have implemented the check in two parts: checking first for a win along a left-to-right diagonal, and then checking along the right-to-left diagonals.\n",
    "\n",
    "Each half of the function iterates though the legal \"starting cells\" that would be the topmost position in a four-piece diagonal, then calls `make_rightward_diag()` and `make_leftward_diag()` respectively.  These helper functions return a temporary `NDArray` that are checked against winning arrays."
   ]
  },
  {
   "cell_type": "code",
   "execution_count": 10,
   "metadata": {
    "ExecuteTime": {
     "end_time": "2018-01-23T00:37:52.475121Z",
     "start_time": "2018-01-23T00:37:52.457550Z"
    },
    "collapsed": true
   },
   "outputs": [],
   "source": [
    "def check_diag_win(board, player_number):\n",
    "    \"\"\"\n",
    "    Checks all possible diagonals to find a run of four\n",
    "    consecutive pieces.\n",
    "    First checks left-to-right, then right-to-left.\n",
    "    \"\"\"\n",
    "    # Check diag left to right\n",
    "    found = False\n",
    "    for row in range(board.shape[0] - 3):\n",
    "        for col in range(board.shape[1] - 3):\n",
    "            diag = make_rightward_diag(board, row, col)\n",
    "#             print(diag, \":::   \", \"{0:d}, {1:d}\".format(row, col), \":::   LEFT TO RIGHT\")\n",
    "            if diag == [player_number] * 4:\n",
    "                found = True\n",
    "                break\n",
    "            \n",
    "    # Check diag right to left\n",
    "    for row in range(board.shape[0] - 3):\n",
    "        for col in range(board.shape[1] - 1, board.shape[1] - 5, -1):\n",
    "            diag = make_leftward_diag(board, row, col)\n",
    "#             print(diag, \":::   \", \"{0:d}, {1:d}\".format(row, col), \":::   RIGHT TO LEFT\")\n",
    "            if diag == [player_number] * 4:\n",
    "                found = True\n",
    "                break\n",
    "    \n",
    "    return found"
   ]
  },
  {
   "cell_type": "code",
   "execution_count": 11,
   "metadata": {
    "ExecuteTime": {
     "end_time": "2018-01-23T00:37:52.634695Z",
     "start_time": "2018-01-23T00:37:52.626687Z"
    },
    "collapsed": true
   },
   "outputs": [],
   "source": [
    "def make_rightward_diag(board, i, j):\n",
    "    \"\"\"\n",
    "    Helper function for checking win along diagonal, left-to-right.\n",
    "    \"\"\"\n",
    "    diag = []\n",
    "    for z in range(4):\n",
    "        diag.append(board[i+z][j+z])\n",
    "    return diag"
   ]
  },
  {
   "cell_type": "code",
   "execution_count": 12,
   "metadata": {
    "ExecuteTime": {
     "end_time": "2018-01-23T00:37:52.844497Z",
     "start_time": "2018-01-23T00:37:52.836564Z"
    },
    "collapsed": true
   },
   "outputs": [],
   "source": [
    "def make_leftward_diag(board, i, j):\n",
    "    \"\"\"\n",
    "    Helper function for checking win along diagonal, right-to-left.\n",
    "    \"\"\"\n",
    "    diag = []\n",
    "    for z in range(4):\n",
    "        diag.append(board[i+z][j-z])\n",
    "    return diag"
   ]
  },
  {
   "cell_type": "markdown",
   "metadata": {},
   "source": [
    "I'm finally ready to put it all together!  The `play_game()` function is called, with an optional `model` argument, and returns the results of a single game of Connect Four.\n",
    "\n",
    "The two players are initialized with their token representations (1 for player 1, 2 for player 2).  The empty board is created, a `game_over` flag is created, a `winner` container is created, and empty lists are created that will accumulate the board states and player 1's move choices over the course of the game.\n",
    "\n",
    "To handle situations in which a player tries to place a piece in a \"full\" column (which is an illegal move), there is a `while` loop during each player's turn to check whether the topmost row in the chosen column is already full.  If it is, the while loop triggers, forcing the player to keep making decisions until a legal choice is made.\n",
    "\n",
    "The function returs the history of the game: `game_over`, which is the winning (or draw) condition that ended the game, `winner`, an integer corresponding to the player number that won (`None` if a draw), `states`, a list of `NDArrays` that give a snapshot of the board each time player 1 makes a move, and `choices`, a list of the column choices that palyer 1 decided to play.\n",
    "\n",
    "**NOTE:** An infinite loop triggers when using the model to predict a choice.  If a player chooses an illegal move (column already full), the player's prediction model will only ever return that value, not allowing any other moves.  This needs to be fixed by checking whether a prediction move will result in an illegal column choice -- and if so, to fall back on a random choice."
   ]
  },
  {
   "cell_type": "code",
   "execution_count": 53,
   "metadata": {
    "ExecuteTime": {
     "end_time": "2018-01-23T01:19:03.076272Z",
     "start_time": "2018-01-23T01:19:03.039195Z"
    },
    "collapsed": true
   },
   "outputs": [],
   "source": [
    "def play_game(p1_model=None, p2_model=None):\n",
    "    \"\"\"\n",
    "    Simulate a single game of Connect Four.\n",
    "    \n",
    "    Return 4-tuple of winning condition, winner number,\n",
    "    history of board states, and history of player 1's\n",
    "    move choices.\n",
    "    \n",
    "    Takes an optional model argument, which is used to generate\n",
    "    move choices based on predicted reward.\n",
    "    \n",
    "    If no model is passed, all choices are made at random.\n",
    "    \"\"\"\n",
    "    \n",
    "    player_1 = 1\n",
    "    player_2 = 2\n",
    "    \n",
    "    board = make_board(b_d)\n",
    "    game_over = False\n",
    "    winner = None\n",
    "    \n",
    "    states = []\n",
    "    choices = []\n",
    "    \n",
    "    while not game_over:\n",
    "        \n",
    "        p1_choice = make_choice(p1_model, board)\n",
    "        while board[0][p1_choice] != 0:\n",
    "            p1_choice = make_choice(model=None, board=board)\n",
    "#         print(\"P1 CHOICE: {0:d}\".format(p1_choice))\n",
    "        choices.append(p1_choice)\n",
    "        states.append(np.array(board))    # Took this from below.\n",
    "        board = place_token(board, p1_choice, player_1)\n",
    "        game_over = check_win(board, player_1)\n",
    "        if game_over:\n",
    "            winner = 1\n",
    "            break\n",
    "\n",
    "#         states.append(np.array(board))   # moved this to earlier in the fxn.\n",
    "#         print(board, \"\\n\\n\")\n",
    "            \n",
    "        p2_choice = make_choice(p2_model, board)\n",
    "        while board[0][p2_choice] != 0:\n",
    "            p2_choice = make_choice(model=None, board=board)\n",
    "#         print(\"P2 CHOICE: {0:d}\".format(p2_choice))\n",
    "        board = place_token(board, p2_choice, player_2)\n",
    "        game_over = check_win(board, player_2)\n",
    "        if game_over:\n",
    "            winner = 2\n",
    "            break\n",
    "    \n",
    "#         print(board, \"\\n\\n\")\n",
    "        \n",
    "    if winner == 2:\n",
    "        states.append(np.array(board))\n",
    "#     print(board)\n",
    "    return game_over, winner, states, choices"
   ]
  },
  {
   "cell_type": "markdown",
   "metadata": {},
   "source": [
    "## Accumulating game data\n",
    "\n",
    "The `play_game()` function plays a single game of Connect Four -- right now with players making random choices -- and record the history of choices, states, and the winner.  My goal with the next section of this notebook is to accumulate data on many games, and store the data in a format that can be used as input to a machine learning model to produce predicitons about the \"best\" choice to make on a given turn.\n",
    "\n",
    "The `create_df()` function calls the `play_game()` function many times to simulate many games of Connect Four.  At the end of the game, the board history, choices history, and winner are recorded.\n",
    "\n",
    "I am representing my data as a `pandas DataFrame`; each row in the `DataFrame` represents a board state at a given turn in a given game, as well as the choice of play (right now random) that player 1 made when confronted with that state.  Finally, each row also contains the calculated \"reward\" resulting from each state-choice combination (more on this two paragraphs below).\n",
    "\n",
    "While coding this section of the notebook, I realized that while Connect Four is a relatively simple game compared to a Chess or a Go, there is an incredibly large state space, or number of possible board configurations.  Since each of the 42 slots can take on 3 possible states (empty, taken by player 1 or taken by player 2), there are 3^42 possible states.  Even when you consider that most of those states are illegal -- you can't have a gravity-defying configuration, nor can you have an imbalance of player tokens -- there are still something like 1.6 X 10^16 legal states.  That is far too many to enumerate and check against.\n",
    "\n",
    "This is a fascinating problem to me because it forces me as the code designer to make some decisions about how to represent the state space in a tractable way.  These decisions will have ramifications as to the prediciton ability of my ultimate model.  Since there are so many possible board configurations, it is not tractable to search them exhaustively.  This is a similar problem that needed to be creatively solved to build machines that can win at much more complex games like Chess and Go.  I've got a friend that is grappling with a similar problem at the moment trying to build a bot that can win at Poker.\n",
    "\n",
    "For now, I will make what I think is a drastic simplification: I will fit my model with data on states that have been \"seen.\"  If a player then runs into a state that it has never seen before, then it will fall back on a random choice to place its piece.\n",
    "\n",
    "Another major decision that I have to make at this point is how I will record the \"reward\" that each play results in.  Again, I will make a modeling decision here (which I might revise later) which will have a significant impact on my modeling ability.  This is because the reward is the value that my model will ultimately try to predict.\n",
    "\n",
    "For now, this is how I will calculate the reward that results from a given move.  If a game is lost, all moves in the game are assigned a reward of zero.  If a game results in a win, Each move is given a nonzero reward value.  Each move's reward will be an element in an exponential sequence, so that the final move (the one that results in a win), has a reward of 1, and each move leading up to that is scored somewhat lower.  The idea is that early moves will have a low reward, and later moves will have a higher reward.\n",
    "\n",
    "Once all of this data is prepped and in `DataFrame` format, it will be ready to use as training input for my model."
   ]
  },
  {
   "cell_type": "markdown",
   "metadata": {},
   "source": [
    "Start by importing `pandas`."
   ]
  },
  {
   "cell_type": "code",
   "execution_count": 14,
   "metadata": {
    "ExecuteTime": {
     "end_time": "2018-01-23T00:37:57.148117Z",
     "start_time": "2018-01-23T00:37:55.562878Z"
    },
    "collapsed": true
   },
   "outputs": [],
   "source": [
    "import pandas as pd"
   ]
  },
  {
   "cell_type": "markdown",
   "metadata": {},
   "source": [
    "`generate_stats()` simulates many games and stores the results of each game in three separate Python lists."
   ]
  },
  {
   "cell_type": "code",
   "execution_count": 84,
   "metadata": {
    "ExecuteTime": {
     "end_time": "2018-01-23T01:24:16.355971Z",
     "start_time": "2018-01-23T01:24:16.337410Z"
    },
    "collapsed": true
   },
   "outputs": [],
   "source": [
    "def generate_stats(num_games, p1_model=None, p2_model=None):\n",
    "    \"\"\"\n",
    "    Accumulates lists of stats from many simulated games.\n",
    "    \n",
    "    Represents reward for each move in a winning game with\n",
    "    a NumPy logspace array.\n",
    "    \"\"\"\n",
    "    reward_container = []\n",
    "    states_container = []\n",
    "    choices_container = []\n",
    "    for i in range(num_games):\n",
    "\n",
    "        game_over, winner, states, choices = play_game(p1_model, p2_model)\n",
    "\n",
    "        if winner == 2:\n",
    "            _ = states.pop()\n",
    "\n",
    "        if winner == 1:\n",
    "            game_reward = np.logspace(-2,0,num=len(choices))\n",
    "        else:\n",
    "            game_reward = np.zeros(len(choices))\n",
    "\n",
    "        reward_container.append(game_reward)\n",
    "        states_container.append(states)\n",
    "        choices_container.append(choices)\n",
    "\n",
    "    return reward_container, states_container, choices_container"
   ]
  },
  {
   "cell_type": "markdown",
   "metadata": {},
   "source": [
    "`stats_to_nparray()` is a helper function that does some converting and reshaping to turn the lists of game results into `pandas`-friendly shapes."
   ]
  },
  {
   "cell_type": "code",
   "execution_count": 16,
   "metadata": {
    "ExecuteTime": {
     "end_time": "2018-01-23T00:37:57.196451Z",
     "start_time": "2018-01-23T00:37:57.180947Z"
    },
    "collapsed": true
   },
   "outputs": [],
   "source": [
    "def stats_to_nparray(reward_container, states_container, choices_container):\n",
    "    \"\"\"\n",
    "    Helper function which reforms lists of stats in NumPy\n",
    "    NDArray objects.\n",
    "    \"\"\"\n",
    "    #\n",
    "    reward_container = np.concatenate(reward_container)\n",
    "\n",
    "    #\n",
    "    states_container = np.concatenate(states_container)\n",
    "    states_container = states_container.reshape(-1, 42)\n",
    "\n",
    "    #\n",
    "    choices_container = np.concatenate(choices_container)\n",
    "    \n",
    "    return reward_container, states_container, choices_container"
   ]
  },
  {
   "cell_type": "markdown",
   "metadata": {},
   "source": [
    "`assemble_df()` combines the prepped Numpy arrays into `pandas` form."
   ]
  },
  {
   "cell_type": "code",
   "execution_count": 17,
   "metadata": {
    "ExecuteTime": {
     "end_time": "2018-01-23T00:37:58.210786Z",
     "start_time": "2018-01-23T00:37:58.199601Z"
    },
    "collapsed": true
   },
   "outputs": [],
   "source": [
    "def assemble_df(reward_container, states_container, choices_container):\n",
    "    \"\"\"\n",
    "    Helper function that re-forms NumPy NDArray objects into\n",
    "    a single pandas DataFrame object.\n",
    "    \"\"\"\n",
    "    a = pd.Series(choices_container, name=\"choices\")\n",
    "    b = pd.DataFrame(states_container, columns=[\"space_\" + str(x) for x in range(states_container.shape[1])])\n",
    "    c = pd.Series(reward_container, name=\"reward\")\n",
    "    df = pd.concat([a, b, c], axis=1)\n",
    "    \n",
    "    return df"
   ]
  },
  {
   "cell_type": "markdown",
   "metadata": {},
   "source": [
    "Finally, the function `sim_games()` puts it all together.  The function takes a number of game simulations as an argument, and returns a `pandas DataFrame` with the resulting rows of data."
   ]
  },
  {
   "cell_type": "code",
   "execution_count": 85,
   "metadata": {
    "ExecuteTime": {
     "end_time": "2018-01-23T01:24:47.138110Z",
     "start_time": "2018-01-23T01:24:47.130920Z"
    },
    "collapsed": true
   },
   "outputs": [],
   "source": [
    "def sim_games(num_games, p1_model=None, p2_model=None):\n",
    "    \"\"\"\n",
    "    Simulate many games of Connect Four.\n",
    "    \n",
    "    Accumulates board state history, player 1 choice history,\n",
    "    and estimated reward.\n",
    "    \n",
    "    Results are returned as a single pandas DataFrame object.\n",
    "    \"\"\"\n",
    "    r, s, c = generate_stats(num_games, p1_model=p1_model, p2_model=p2_model)\n",
    "    r, s, c, = stats_to_nparray(r, s, c)\n",
    "    df = assemble_df(r, s, c)\n",
    "    \n",
    "    return df"
   ]
  },
  {
   "cell_type": "markdown",
   "metadata": {},
   "source": [
    "Simulating 20,000 games of Connect Four has resulted in 230,559 turns being played, each with its corresponding record of move choice, board state, and expected reward.  It took more than 5 minutes to generate this data!"
   ]
  },
  {
   "cell_type": "code",
   "execution_count": 34,
   "metadata": {
    "ExecuteTime": {
     "end_time": "2018-01-23T01:11:49.537979Z",
     "start_time": "2018-01-23T00:57:41.255325Z"
    },
    "scrolled": false
   },
   "outputs": [
    {
     "data": {
      "text/plain": [
       "(657104, 44)"
      ]
     },
     "execution_count": 34,
     "metadata": {},
     "output_type": "execute_result"
    }
   ],
   "source": [
    "# Took 5m 23s to play 20,000 games.\n",
    "# Took 17m 13s to play 50,000 games.\n",
    "# Took 14m 8s to play 60,000 games.\n",
    "\n",
    "num_games = 60000\n",
    "\n",
    "df = sim_games(num_games)\n",
    "df.shape"
   ]
  },
  {
   "cell_type": "markdown",
   "metadata": {},
   "source": [
    "## Fitting the Model\n",
    "\n",
    "Now that the data is ready, it is time to train a model that can produce a prediction for the expected reward that will result from a column choice-board state combo.\n",
    "\n",
    "This is another juncture where I have to make a decision that will impact the accuracy of my predictions: what type of model should I use?\n",
    "\n",
    "I'm predicting a numerical value, so this is a \"Regression Setting.\"  That is, my model should output a continuous numerical value, so I need to limit my choice of models to those that roduce such an output.  There are a number of these models each of which has an implementation available in the `scikit-learn` machine learning library.  Some examples are Linear Regression, Random Forest Regression, and Support Vector Regression.\n",
    "\n",
    "I've decided to start modeling with a Random Forest Regressor.  This is because I expect that the relationship between the predictors (token choice and each of the board slots) to be highly nonlinear with respect to the output (expected reward).  Once the predicion engine is working and my players can use predicitons to play the game, I plan to return to this section to give different models a try.  However, my _ex ante_ expectation is that a Random Forest Regressor will perform the best because of its nonlinear nature."
   ]
  },
  {
   "cell_type": "markdown",
   "metadata": {},
   "source": [
    "Start off by importing `scikit-learn`'s `RandomForestRegressor`."
   ]
  },
  {
   "cell_type": "code",
   "execution_count": 20,
   "metadata": {
    "ExecuteTime": {
     "end_time": "2018-01-23T00:45:20.968357Z",
     "start_time": "2018-01-23T00:45:18.545796Z"
    },
    "collapsed": true
   },
   "outputs": [],
   "source": [
    "from sklearn.ensemble import RandomForestRegressor"
   ]
  },
  {
   "cell_type": "markdown",
   "metadata": {},
   "source": [
    "Create `X` and `y` variables by splitting the `DataFrame`."
   ]
  },
  {
   "cell_type": "code",
   "execution_count": 35,
   "metadata": {
    "ExecuteTime": {
     "end_time": "2018-01-23T01:12:11.207847Z",
     "start_time": "2018-01-23T01:12:11.026244Z"
    },
    "collapsed": true
   },
   "outputs": [],
   "source": [
    "X = df.iloc[:,:-1]\n",
    "y = df.iloc[:,-1]"
   ]
  },
  {
   "cell_type": "markdown",
   "metadata": {},
   "source": [
    "Next, initialize the model and fit it with the `X` and `y` variables."
   ]
  },
  {
   "cell_type": "code",
   "execution_count": 36,
   "metadata": {
    "ExecuteTime": {
     "end_time": "2018-01-23T01:12:57.801562Z",
     "start_time": "2018-01-23T01:12:13.139042Z"
    },
    "collapsed": true
   },
   "outputs": [],
   "source": [
    "# Took 41s to fit model with 546,562 rows (50,000 games)\n",
    "# Took 45s to fit model with 657,104 rows (60,000 games)\n",
    "\n",
    "model = RandomForestRegressor()\n",
    "model = model.fit(X, y)"
   ]
  },
  {
   "cell_type": "code",
   "execution_count": 37,
   "metadata": {
    "ExecuteTime": {
     "end_time": "2018-01-23T01:13:16.012498Z",
     "start_time": "2018-01-23T01:13:16.003850Z"
    }
   },
   "outputs": [
    {
     "data": {
      "text/plain": [
       "RandomForestRegressor(bootstrap=True, criterion='mse', max_depth=None,\n",
       "           max_features='auto', max_leaf_nodes=None,\n",
       "           min_impurity_decrease=0.0, min_impurity_split=None,\n",
       "           min_samples_leaf=1, min_samples_split=2,\n",
       "           min_weight_fraction_leaf=0.0, n_estimators=10, n_jobs=1,\n",
       "           oob_score=False, random_state=None, verbose=0, warm_start=False)"
      ]
     },
     "execution_count": 37,
     "metadata": {},
     "output_type": "execute_result"
    }
   ],
   "source": [
    "model"
   ]
  },
  {
   "cell_type": "markdown",
   "metadata": {},
   "source": [
    "## Testing the Predictions\n",
    "\n",
    "Let's test the model.  What does it predict when faced with a particular board state?"
   ]
  },
  {
   "cell_type": "markdown",
   "metadata": {},
   "source": [
    "### Utility Functions"
   ]
  },
  {
   "cell_type": "markdown",
   "metadata": {},
   "source": [
    "`sample_state()` is a utility function that generates board states, which can be used to explore the performance of the prediction model."
   ]
  },
  {
   "cell_type": "code",
   "execution_count": 134,
   "metadata": {
    "ExecuteTime": {
     "end_time": "2018-01-23T02:08:10.235267Z",
     "start_time": "2018-01-23T02:08:10.228045Z"
    },
    "collapsed": true
   },
   "outputs": [],
   "source": [
    "# Use this cell to generate a random board state\n",
    "\n",
    "state_number = None\n",
    "\n",
    "def sample_state(state_number=None):\n",
    "    \"\"\"\n",
    "    Utility function. Return a single board state from\n",
    "    a simulated game.\n",
    "    \n",
    "    If integer n is passed, returns the nth-from-last\n",
    "    board state in the game.  If no argument is passed,\n",
    "    returns a board state at random.\n",
    "    \n",
    "    Use this function to generate sample board states,\n",
    "    to examine performance of prediction model.\n",
    "    \"\"\"\n",
    "    _, _, states, _ = play_game()\n",
    "    if state_number:\n",
    "        sample = states[-state_number]\n",
    "    else:\n",
    "        sample = states[np.random.choice(len(states))]\n",
    "    \n",
    "    return sample"
   ]
  },
  {
   "cell_type": "markdown",
   "metadata": {},
   "source": [
    "I wrote the utility function `test_sample()` to examine what the model predicts from a single board state.  It takes a board state (which you can generate at random with the above function) and a prediction model, and returns the input (`DataFrame` format) and output from the model, as well as the model's choice of column to place a piece (the argmax of the output array)."
   ]
  },
  {
   "cell_type": "code",
   "execution_count": 135,
   "metadata": {
    "ExecuteTime": {
     "end_time": "2018-01-23T02:08:10.837789Z",
     "start_time": "2018-01-23T02:08:10.826071Z"
    },
    "collapsed": true
   },
   "outputs": [],
   "source": [
    "def test_sample(board, model):\n",
    "    \"\"\"\n",
    "    Utility function.  Input a single board state\n",
    "    and prediciton model.\n",
    "    \n",
    "    Returns X_sample, a DataFrame of board state and\n",
    "    possible choices (input to the prediciton model),\n",
    "    y_sample, an array of predicted rewards, and y_choice,\n",
    "    the index of y_samples with the highest value.\n",
    "    \"\"\"\n",
    "    board = board.reshape(-1, 42)\n",
    "    choices = np.arange(0,7)\n",
    "    board = pd.DataFrame(board, columns=[\"space_\" + str(x) for x in range(board.shape[1])])\n",
    "    choices = pd.Series(choices, name='choices')\n",
    "    X_sample = pd.concat([board, choices], axis=1)\n",
    "    X_sample = X_sample.fillna(X_sample.mean())\n",
    "    \n",
    "    y_sample = model.predict(X_sample)\n",
    "    \n",
    "    y_choice = np.argmax(y_sample)\n",
    "    \n",
    "    return X_sample, y_sample, y_choice"
   ]
  },
  {
   "cell_type": "markdown",
   "metadata": {},
   "source": [
    "### Run Tests\n",
    "\n",
    "Use this cell to generate a (random or chosen) board state."
   ]
  },
  {
   "cell_type": "code",
   "execution_count": 136,
   "metadata": {
    "ExecuteTime": {
     "end_time": "2018-01-23T02:08:12.419545Z",
     "start_time": "2018-01-23T02:08:12.384007Z"
    }
   },
   "outputs": [
    {
     "data": {
      "text/plain": [
       "array([[ 0.,  0.,  1.,  0.,  0.,  0.,  0.],\n",
       "       [ 0.,  0.,  1.,  0.,  0.,  0.,  0.],\n",
       "       [ 0.,  0.,  1.,  0.,  0.,  0.,  0.],\n",
       "       [ 0.,  0.,  2.,  2.,  0.,  0.,  2.],\n",
       "       [ 0.,  0.,  2.,  1.,  2.,  2.,  2.],\n",
       "       [ 1.,  1.,  1.,  2.,  1.,  1.,  2.]])"
      ]
     },
     "execution_count": 136,
     "metadata": {},
     "output_type": "execute_result"
    }
   ],
   "source": [
    "sample_state()"
   ]
  },
  {
   "cell_type": "markdown",
   "metadata": {},
   "source": [
    "Use this cell to write or copy/paste a board state for inputting into the test utility."
   ]
  },
  {
   "cell_type": "code",
   "execution_count": 137,
   "metadata": {
    "ExecuteTime": {
     "end_time": "2018-01-23T02:08:19.140712Z",
     "start_time": "2018-01-23T02:08:19.111480Z"
    }
   },
   "outputs": [],
   "source": [
    "test = np.array([\n",
    "\n",
    "        [ 2.,  2.,  1.,  0.,  0.,  2.,  0.],\n",
    "        [ 1.,  2.,  1.,  0.,  1.,  1.,  0.],\n",
    "        [ 2.,  2.,  1.,  0.,  2.,  2.,  2.],\n",
    "        [ 1.,  1.,  2.,  2.,  1.,  1.,  2.],\n",
    "        [ 2.,  2.,  1.,  1.,  1.,  2.,  1.],\n",
    "        [ 1.,  2.,  1.,  2.,  1.,  1.,  2.]\n",
    "\n",
    "])\n",
    "\n",
    "X_sample, y_sample, y_choice = test_sample(test, model)"
   ]
  },
  {
   "cell_type": "markdown",
   "metadata": {},
   "source": [
    "Print the models' input:"
   ]
  },
  {
   "cell_type": "code",
   "execution_count": 138,
   "metadata": {
    "ExecuteTime": {
     "end_time": "2018-01-23T02:08:20.624515Z",
     "start_time": "2018-01-23T02:08:20.581489Z"
    }
   },
   "outputs": [
    {
     "data": {
      "text/html": [
       "<div>\n",
       "<style>\n",
       "    .dataframe thead tr:only-child th {\n",
       "        text-align: right;\n",
       "    }\n",
       "\n",
       "    .dataframe thead th {\n",
       "        text-align: left;\n",
       "    }\n",
       "\n",
       "    .dataframe tbody tr th {\n",
       "        vertical-align: top;\n",
       "    }\n",
       "</style>\n",
       "<table border=\"1\" class=\"dataframe\">\n",
       "  <thead>\n",
       "    <tr style=\"text-align: right;\">\n",
       "      <th></th>\n",
       "      <th>space_0</th>\n",
       "      <th>space_1</th>\n",
       "      <th>space_2</th>\n",
       "      <th>space_3</th>\n",
       "      <th>space_4</th>\n",
       "      <th>space_5</th>\n",
       "      <th>space_6</th>\n",
       "      <th>space_7</th>\n",
       "      <th>space_8</th>\n",
       "      <th>space_9</th>\n",
       "      <th>...</th>\n",
       "      <th>space_33</th>\n",
       "      <th>space_34</th>\n",
       "      <th>space_35</th>\n",
       "      <th>space_36</th>\n",
       "      <th>space_37</th>\n",
       "      <th>space_38</th>\n",
       "      <th>space_39</th>\n",
       "      <th>space_40</th>\n",
       "      <th>space_41</th>\n",
       "      <th>choices</th>\n",
       "    </tr>\n",
       "  </thead>\n",
       "  <tbody>\n",
       "    <tr>\n",
       "      <th>0</th>\n",
       "      <td>2.0</td>\n",
       "      <td>2.0</td>\n",
       "      <td>1.0</td>\n",
       "      <td>0.0</td>\n",
       "      <td>0.0</td>\n",
       "      <td>2.0</td>\n",
       "      <td>0.0</td>\n",
       "      <td>1.0</td>\n",
       "      <td>2.0</td>\n",
       "      <td>1.0</td>\n",
       "      <td>...</td>\n",
       "      <td>2.0</td>\n",
       "      <td>1.0</td>\n",
       "      <td>1.0</td>\n",
       "      <td>2.0</td>\n",
       "      <td>1.0</td>\n",
       "      <td>2.0</td>\n",
       "      <td>1.0</td>\n",
       "      <td>1.0</td>\n",
       "      <td>2.0</td>\n",
       "      <td>0</td>\n",
       "    </tr>\n",
       "    <tr>\n",
       "      <th>1</th>\n",
       "      <td>2.0</td>\n",
       "      <td>2.0</td>\n",
       "      <td>1.0</td>\n",
       "      <td>0.0</td>\n",
       "      <td>0.0</td>\n",
       "      <td>2.0</td>\n",
       "      <td>0.0</td>\n",
       "      <td>1.0</td>\n",
       "      <td>2.0</td>\n",
       "      <td>1.0</td>\n",
       "      <td>...</td>\n",
       "      <td>2.0</td>\n",
       "      <td>1.0</td>\n",
       "      <td>1.0</td>\n",
       "      <td>2.0</td>\n",
       "      <td>1.0</td>\n",
       "      <td>2.0</td>\n",
       "      <td>1.0</td>\n",
       "      <td>1.0</td>\n",
       "      <td>2.0</td>\n",
       "      <td>1</td>\n",
       "    </tr>\n",
       "    <tr>\n",
       "      <th>2</th>\n",
       "      <td>2.0</td>\n",
       "      <td>2.0</td>\n",
       "      <td>1.0</td>\n",
       "      <td>0.0</td>\n",
       "      <td>0.0</td>\n",
       "      <td>2.0</td>\n",
       "      <td>0.0</td>\n",
       "      <td>1.0</td>\n",
       "      <td>2.0</td>\n",
       "      <td>1.0</td>\n",
       "      <td>...</td>\n",
       "      <td>2.0</td>\n",
       "      <td>1.0</td>\n",
       "      <td>1.0</td>\n",
       "      <td>2.0</td>\n",
       "      <td>1.0</td>\n",
       "      <td>2.0</td>\n",
       "      <td>1.0</td>\n",
       "      <td>1.0</td>\n",
       "      <td>2.0</td>\n",
       "      <td>2</td>\n",
       "    </tr>\n",
       "    <tr>\n",
       "      <th>3</th>\n",
       "      <td>2.0</td>\n",
       "      <td>2.0</td>\n",
       "      <td>1.0</td>\n",
       "      <td>0.0</td>\n",
       "      <td>0.0</td>\n",
       "      <td>2.0</td>\n",
       "      <td>0.0</td>\n",
       "      <td>1.0</td>\n",
       "      <td>2.0</td>\n",
       "      <td>1.0</td>\n",
       "      <td>...</td>\n",
       "      <td>2.0</td>\n",
       "      <td>1.0</td>\n",
       "      <td>1.0</td>\n",
       "      <td>2.0</td>\n",
       "      <td>1.0</td>\n",
       "      <td>2.0</td>\n",
       "      <td>1.0</td>\n",
       "      <td>1.0</td>\n",
       "      <td>2.0</td>\n",
       "      <td>3</td>\n",
       "    </tr>\n",
       "    <tr>\n",
       "      <th>4</th>\n",
       "      <td>2.0</td>\n",
       "      <td>2.0</td>\n",
       "      <td>1.0</td>\n",
       "      <td>0.0</td>\n",
       "      <td>0.0</td>\n",
       "      <td>2.0</td>\n",
       "      <td>0.0</td>\n",
       "      <td>1.0</td>\n",
       "      <td>2.0</td>\n",
       "      <td>1.0</td>\n",
       "      <td>...</td>\n",
       "      <td>2.0</td>\n",
       "      <td>1.0</td>\n",
       "      <td>1.0</td>\n",
       "      <td>2.0</td>\n",
       "      <td>1.0</td>\n",
       "      <td>2.0</td>\n",
       "      <td>1.0</td>\n",
       "      <td>1.0</td>\n",
       "      <td>2.0</td>\n",
       "      <td>4</td>\n",
       "    </tr>\n",
       "    <tr>\n",
       "      <th>5</th>\n",
       "      <td>2.0</td>\n",
       "      <td>2.0</td>\n",
       "      <td>1.0</td>\n",
       "      <td>0.0</td>\n",
       "      <td>0.0</td>\n",
       "      <td>2.0</td>\n",
       "      <td>0.0</td>\n",
       "      <td>1.0</td>\n",
       "      <td>2.0</td>\n",
       "      <td>1.0</td>\n",
       "      <td>...</td>\n",
       "      <td>2.0</td>\n",
       "      <td>1.0</td>\n",
       "      <td>1.0</td>\n",
       "      <td>2.0</td>\n",
       "      <td>1.0</td>\n",
       "      <td>2.0</td>\n",
       "      <td>1.0</td>\n",
       "      <td>1.0</td>\n",
       "      <td>2.0</td>\n",
       "      <td>5</td>\n",
       "    </tr>\n",
       "    <tr>\n",
       "      <th>6</th>\n",
       "      <td>2.0</td>\n",
       "      <td>2.0</td>\n",
       "      <td>1.0</td>\n",
       "      <td>0.0</td>\n",
       "      <td>0.0</td>\n",
       "      <td>2.0</td>\n",
       "      <td>0.0</td>\n",
       "      <td>1.0</td>\n",
       "      <td>2.0</td>\n",
       "      <td>1.0</td>\n",
       "      <td>...</td>\n",
       "      <td>2.0</td>\n",
       "      <td>1.0</td>\n",
       "      <td>1.0</td>\n",
       "      <td>2.0</td>\n",
       "      <td>1.0</td>\n",
       "      <td>2.0</td>\n",
       "      <td>1.0</td>\n",
       "      <td>1.0</td>\n",
       "      <td>2.0</td>\n",
       "      <td>6</td>\n",
       "    </tr>\n",
       "  </tbody>\n",
       "</table>\n",
       "<p>7 rows × 43 columns</p>\n",
       "</div>"
      ],
      "text/plain": [
       "   space_0  space_1  space_2  space_3  space_4  space_5  space_6  space_7  \\\n",
       "0      2.0      2.0      1.0      0.0      0.0      2.0      0.0      1.0   \n",
       "1      2.0      2.0      1.0      0.0      0.0      2.0      0.0      1.0   \n",
       "2      2.0      2.0      1.0      0.0      0.0      2.0      0.0      1.0   \n",
       "3      2.0      2.0      1.0      0.0      0.0      2.0      0.0      1.0   \n",
       "4      2.0      2.0      1.0      0.0      0.0      2.0      0.0      1.0   \n",
       "5      2.0      2.0      1.0      0.0      0.0      2.0      0.0      1.0   \n",
       "6      2.0      2.0      1.0      0.0      0.0      2.0      0.0      1.0   \n",
       "\n",
       "   space_8  space_9   ...     space_33  space_34  space_35  space_36  \\\n",
       "0      2.0      1.0   ...          2.0       1.0       1.0       2.0   \n",
       "1      2.0      1.0   ...          2.0       1.0       1.0       2.0   \n",
       "2      2.0      1.0   ...          2.0       1.0       1.0       2.0   \n",
       "3      2.0      1.0   ...          2.0       1.0       1.0       2.0   \n",
       "4      2.0      1.0   ...          2.0       1.0       1.0       2.0   \n",
       "5      2.0      1.0   ...          2.0       1.0       1.0       2.0   \n",
       "6      2.0      1.0   ...          2.0       1.0       1.0       2.0   \n",
       "\n",
       "   space_37  space_38  space_39  space_40  space_41  choices  \n",
       "0       1.0       2.0       1.0       1.0       2.0        0  \n",
       "1       1.0       2.0       1.0       1.0       2.0        1  \n",
       "2       1.0       2.0       1.0       1.0       2.0        2  \n",
       "3       1.0       2.0       1.0       1.0       2.0        3  \n",
       "4       1.0       2.0       1.0       1.0       2.0        4  \n",
       "5       1.0       2.0       1.0       1.0       2.0        5  \n",
       "6       1.0       2.0       1.0       1.0       2.0        6  \n",
       "\n",
       "[7 rows x 43 columns]"
      ]
     },
     "execution_count": 138,
     "metadata": {},
     "output_type": "execute_result"
    }
   ],
   "source": [
    "X_sample"
   ]
  },
  {
   "cell_type": "markdown",
   "metadata": {},
   "source": [
    "Print the model's output:"
   ]
  },
  {
   "cell_type": "code",
   "execution_count": 139,
   "metadata": {
    "ExecuteTime": {
     "end_time": "2018-01-23T02:08:22.323494Z",
     "start_time": "2018-01-23T02:08:22.316591Z"
    }
   },
   "outputs": [
    {
     "data": {
      "text/plain": [
       "array([ 0.66579332,  0.66579332,  0.66579332,  0.66579332,  0.66579332,\n",
       "        0.66579332,  0.66579332])"
      ]
     },
     "execution_count": 139,
     "metadata": {},
     "output_type": "execute_result"
    }
   ],
   "source": [
    "y_sample"
   ]
  },
  {
   "cell_type": "markdown",
   "metadata": {},
   "source": [
    "Print the model's choice of column to play a piece:"
   ]
  },
  {
   "cell_type": "code",
   "execution_count": 140,
   "metadata": {
    "ExecuteTime": {
     "end_time": "2018-01-23T02:08:23.885809Z",
     "start_time": "2018-01-23T02:08:23.879348Z"
    }
   },
   "outputs": [
    {
     "data": {
      "text/plain": [
       "0"
      ]
     },
     "execution_count": 140,
     "metadata": {},
     "output_type": "execute_result"
    }
   ],
   "source": [
    "y_choice"
   ]
  },
  {
   "cell_type": "markdown",
   "metadata": {},
   "source": [
    "## Using the predictions\n",
    "\n",
    "Now that I have a model that generates predicitons, I need to modify the `play_game()` function to accept the model as an argument, and make it use the model to generate predictions.  This is as far as I've gotten as of yet.\n",
    "\n",
    "**NOTES:** Just updated the `play_game()` function and the `sim_games()` pipeline to accept a p1 model parameter and a p2 model parameter.\n",
    "\n",
    "The model is good enough that it beats the random player almost all the time.  The model is not good enough to use for p2.  Trying to train another model to learn against p1.\n",
    "\n",
    "Also need to consider adding an element of randomness to a player's choice when using the model.  It looks like p1 falls very easily into playing the exact same game every time, deterministically.\n",
    "\n",
    "Need to add a count/%age of p1 wins to the output of `sim_game()` to keep track of history as the models train against each other."
   ]
  },
  {
   "cell_type": "code",
   "execution_count": 96,
   "metadata": {
    "ExecuteTime": {
     "end_time": "2018-01-23T01:39:13.798652Z",
     "start_time": "2018-01-23T01:36:54.239381Z"
    }
   },
   "outputs": [
    {
     "data": {
      "text/plain": [
       "(54133, 44)"
      ]
     },
     "execution_count": 96,
     "metadata": {},
     "output_type": "execute_result"
    }
   ],
   "source": [
    "num_games = 10000\n",
    "\n",
    "df = sim_games(num_games, p1_model=model, p2_model=None)\n",
    "df.shape"
   ]
  },
  {
   "cell_type": "code",
   "execution_count": 102,
   "metadata": {
    "ExecuteTime": {
     "end_time": "2018-01-23T01:42:13.924856Z",
     "start_time": "2018-01-23T01:42:13.894200Z"
    },
    "collapsed": true
   },
   "outputs": [],
   "source": [
    "X = df.iloc[:,:-1]\n",
    "y = df.iloc[:,-1]"
   ]
  },
  {
   "cell_type": "code",
   "execution_count": 103,
   "metadata": {
    "ExecuteTime": {
     "end_time": "2018-01-23T01:42:21.450830Z",
     "start_time": "2018-01-23T01:42:20.121081Z"
    },
    "collapsed": true
   },
   "outputs": [],
   "source": [
    "model2 = RandomForestRegressor()\n",
    "model2 = model.fit(X, y)"
   ]
  },
  {
   "cell_type": "code",
   "execution_count": 104,
   "metadata": {
    "ExecuteTime": {
     "end_time": "2018-01-23T01:42:24.554881Z",
     "start_time": "2018-01-23T01:42:24.543737Z"
    }
   },
   "outputs": [
    {
     "data": {
      "text/plain": [
       "RandomForestRegressor(bootstrap=True, criterion='mse', max_depth=None,\n",
       "           max_features='auto', max_leaf_nodes=None,\n",
       "           min_impurity_decrease=0.0, min_impurity_split=None,\n",
       "           min_samples_leaf=1, min_samples_split=2,\n",
       "           min_weight_fraction_leaf=0.0, n_estimators=10, n_jobs=1,\n",
       "           oob_score=False, random_state=None, verbose=0, warm_start=False)"
      ]
     },
     "execution_count": 104,
     "metadata": {},
     "output_type": "execute_result"
    }
   ],
   "source": [
    "model2"
   ]
  },
  {
   "cell_type": "code",
   "execution_count": 124,
   "metadata": {
    "ExecuteTime": {
     "end_time": "2018-01-23T01:50:50.347334Z",
     "start_time": "2018-01-23T01:49:58.657423Z"
    },
    "collapsed": true
   },
   "outputs": [],
   "source": [
    "w = []\n",
    "for i in range(1000):\n",
    "    game_over, winner, states, choices = play_game(p1_model=model, p2_model=model2)\n",
    "    w.append(winner)"
   ]
  },
  {
   "cell_type": "code",
   "execution_count": 128,
   "metadata": {
    "ExecuteTime": {
     "end_time": "2018-01-23T01:51:30.104478Z",
     "start_time": "2018-01-23T01:51:30.098762Z"
    }
   },
   "outputs": [
    {
     "data": {
      "text/plain": [
       "(565, 435)"
      ]
     },
     "execution_count": 128,
     "metadata": {},
     "output_type": "execute_result"
    }
   ],
   "source": [
    "w.count(1), w.count(2)"
   ]
  },
  {
   "cell_type": "markdown",
   "metadata": {},
   "source": [
    "More balanced results that playing against the null model, results below"
   ]
  },
  {
   "cell_type": "code",
   "execution_count": 129,
   "metadata": {
    "ExecuteTime": {
     "end_time": "2018-01-23T01:52:00.327467Z",
     "start_time": "2018-01-23T01:51:39.424999Z"
    },
    "collapsed": true
   },
   "outputs": [],
   "source": [
    "w = []\n",
    "for i in range(1000):\n",
    "    game_over, winner, states, choices = play_game(p1_model=model, p2_model=None)\n",
    "    w.append(winner)"
   ]
  },
  {
   "cell_type": "code",
   "execution_count": 130,
   "metadata": {
    "ExecuteTime": {
     "end_time": "2018-01-23T01:52:00.336811Z",
     "start_time": "2018-01-23T01:52:00.329700Z"
    }
   },
   "outputs": [
    {
     "data": {
      "text/plain": [
       "(723, 277)"
      ]
     },
     "execution_count": 130,
     "metadata": {},
     "output_type": "execute_result"
    }
   ],
   "source": [
    "w.count(1), w.count(2)"
   ]
  },
  {
   "cell_type": "code",
   "execution_count": 150,
   "metadata": {
    "ExecuteTime": {
     "end_time": "2018-01-23T02:35:10.339075Z",
     "start_time": "2018-01-23T02:33:06.933606Z"
    }
   },
   "outputs": [
    {
     "name": "stdout",
     "output_type": "stream",
     "text": [
      "epoch 0 done\n",
      "epoch 1 done\n"
     ]
    }
   ],
   "source": [
    "num_epochs = 2\n",
    "epoch_length = 1000\n",
    "\n",
    "p1_model = None\n",
    "p2_model = None\n",
    "\n",
    "for epoch in range(num_epochs):\n",
    "    df = sim_games(epoch_length, p1_model=p1_model, p2_model=p2_model)\n",
    "    X = df.iloc[:,:-1]\n",
    "    y = df.iloc[:,-1]\n",
    "    p1_model = RandomForestRegressor()\n",
    "    p1_model = p1_model.fit(X, y)\n",
    "    \n",
    "    df = sim_games(epoch_length, p1_model=p1_model, p2_model=p2_model)\n",
    "    X = df.iloc[:,:-1]\n",
    "    y = df.iloc[:,-1]\n",
    "    p2_model = RandomForestRegressor()\n",
    "    p2_model = p2_model.fit(X, y)\n",
    "    \n",
    "    print('epoch {} done'.format(epoch))"
   ]
  },
  {
   "cell_type": "code",
   "execution_count": 151,
   "metadata": {
    "ExecuteTime": {
     "end_time": "2018-01-23T02:35:55.450339Z",
     "start_time": "2018-01-23T02:35:10.341759Z"
    },
    "collapsed": true
   },
   "outputs": [],
   "source": [
    "w = []\n",
    "for i in range(1000):\n",
    "    game_over, winner, states, choices = play_game(p1_model=p1_model, p2_model=p2_model)\n",
    "    w.append(winner)"
   ]
  },
  {
   "cell_type": "code",
   "execution_count": 152,
   "metadata": {
    "ExecuteTime": {
     "end_time": "2018-01-23T02:35:55.458619Z",
     "start_time": "2018-01-23T02:35:55.452440Z"
    }
   },
   "outputs": [
    {
     "data": {
      "text/plain": [
       "(572, 428)"
      ]
     },
     "execution_count": 152,
     "metadata": {},
     "output_type": "execute_result"
    }
   ],
   "source": [
    "w.count(1), w.count(2)"
   ]
  },
  {
   "cell_type": "code",
   "execution_count": null,
   "metadata": {
    "collapsed": true
   },
   "outputs": [],
   "source": []
  }
 ],
 "metadata": {
  "kernelspec": {
   "display_name": "Python 3",
   "language": "python",
   "name": "python3"
  },
  "language_info": {
   "codemirror_mode": {
    "name": "ipython",
    "version": 3
   },
   "file_extension": ".py",
   "mimetype": "text/x-python",
   "name": "python",
   "nbconvert_exporter": "python",
   "pygments_lexer": "ipython3",
   "version": "3.6.1"
  },
  "toc": {
   "nav_menu": {},
   "number_sections": true,
   "sideBar": true,
   "skip_h1_title": false,
   "toc_cell": false,
   "toc_position": {},
   "toc_section_display": "block",
   "toc_window_display": false
  }
 },
 "nbformat": 4,
 "nbformat_minor": 2
}

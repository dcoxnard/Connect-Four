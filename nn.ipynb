{
 "cells": [
  {
   "cell_type": "code",
   "execution_count": 63,
   "metadata": {
    "collapsed": true
   },
   "outputs": [],
   "source": [
    "import os\n",
    "import time\n",
    "import glob\n",
    "import math\n",
    "import operator\n",
    "\n",
    "import numpy as np\n",
    "import pandas as pd\n",
    "import matplotlib.pyplot as plt\n",
    "from sklearn import linear_model, preprocessing, model_selection\n",
    "%matplotlib inline"
   ]
  },
  {
   "cell_type": "code",
   "execution_count": 64,
   "metadata": {},
   "outputs": [],
   "source": [
    "os.environ[\"KERAS_BACKEND\"] = 'tensorflow'\n",
    "import keras"
   ]
  },
  {
   "cell_type": "code",
   "execution_count": 65,
   "metadata": {
    "collapsed": true
   },
   "outputs": [],
   "source": [
    "data_dir = \"generated_games\""
   ]
  },
  {
   "cell_type": "code",
   "execution_count": 66,
   "metadata": {},
   "outputs": [
    {
     "name": "stdout",
     "output_type": "stream",
     "text": [
      "CSVs in data_dir:\n",
      "['random_choice_games.csv']\n"
     ]
    }
   ],
   "source": [
    "print(\"CSVs in data_dir:\")\n",
    "files = glob.glob(os.path.join(data_dir, \"*.csv\"))\n",
    "print([os.path.basename(file) for file in files])"
   ]
  },
  {
   "cell_type": "code",
   "execution_count": 67,
   "metadata": {
    "collapsed": true
   },
   "outputs": [],
   "source": [
    "fp = os.path.join(data_dir, \"random_choice_games.csv\")\n",
    "raw = pd.read_csv(fp)"
   ]
  },
  {
   "cell_type": "code",
   "execution_count": 156,
   "metadata": {
    "collapsed": true
   },
   "outputs": [],
   "source": [
    "winning_moves = raw.groupby(\"game_no\").last()"
   ]
  },
  {
   "cell_type": "code",
   "execution_count": 157,
   "metadata": {},
   "outputs": [
    {
     "data": {
      "text/html": [
       "<div>\n",
       "<style>\n",
       "    .dataframe thead tr:only-child th {\n",
       "        text-align: right;\n",
       "    }\n",
       "\n",
       "    .dataframe thead th {\n",
       "        text-align: left;\n",
       "    }\n",
       "\n",
       "    .dataframe tbody tr th {\n",
       "        vertical-align: top;\n",
       "    }\n",
       "</style>\n",
       "<table border=\"1\" class=\"dataframe\">\n",
       "  <thead>\n",
       "    <tr style=\"text-align: right;\">\n",
       "      <th></th>\n",
       "      <th>position_0</th>\n",
       "      <th>position_1</th>\n",
       "      <th>position_2</th>\n",
       "      <th>position_3</th>\n",
       "      <th>position_4</th>\n",
       "      <th>position_5</th>\n",
       "      <th>position_6</th>\n",
       "      <th>position_7</th>\n",
       "      <th>position_8</th>\n",
       "      <th>position_9</th>\n",
       "      <th>...</th>\n",
       "      <th>position_33</th>\n",
       "      <th>position_34</th>\n",
       "      <th>position_35</th>\n",
       "      <th>position_36</th>\n",
       "      <th>position_37</th>\n",
       "      <th>position_38</th>\n",
       "      <th>position_39</th>\n",
       "      <th>position_40</th>\n",
       "      <th>position_41</th>\n",
       "      <th>choice</th>\n",
       "    </tr>\n",
       "    <tr>\n",
       "      <th>game_no</th>\n",
       "      <th></th>\n",
       "      <th></th>\n",
       "      <th></th>\n",
       "      <th></th>\n",
       "      <th></th>\n",
       "      <th></th>\n",
       "      <th></th>\n",
       "      <th></th>\n",
       "      <th></th>\n",
       "      <th></th>\n",
       "      <th></th>\n",
       "      <th></th>\n",
       "      <th></th>\n",
       "      <th></th>\n",
       "      <th></th>\n",
       "      <th></th>\n",
       "      <th></th>\n",
       "      <th></th>\n",
       "      <th></th>\n",
       "      <th></th>\n",
       "      <th></th>\n",
       "    </tr>\n",
       "  </thead>\n",
       "  <tbody>\n",
       "    <tr>\n",
       "      <th>0</th>\n",
       "      <td>0.0</td>\n",
       "      <td>0.0</td>\n",
       "      <td>0.0</td>\n",
       "      <td>0.0</td>\n",
       "      <td>0.0</td>\n",
       "      <td>0.0</td>\n",
       "      <td>1.0</td>\n",
       "      <td>0.0</td>\n",
       "      <td>1.0</td>\n",
       "      <td>0.0</td>\n",
       "      <td>...</td>\n",
       "      <td>2.0</td>\n",
       "      <td>2.0</td>\n",
       "      <td>1.0</td>\n",
       "      <td>2.0</td>\n",
       "      <td>2.0</td>\n",
       "      <td>2.0</td>\n",
       "      <td>0.0</td>\n",
       "      <td>2.0</td>\n",
       "      <td>1.0</td>\n",
       "      <td>3</td>\n",
       "    </tr>\n",
       "    <tr>\n",
       "      <th>1</th>\n",
       "      <td>0.0</td>\n",
       "      <td>0.0</td>\n",
       "      <td>0.0</td>\n",
       "      <td>0.0</td>\n",
       "      <td>0.0</td>\n",
       "      <td>0.0</td>\n",
       "      <td>0.0</td>\n",
       "      <td>0.0</td>\n",
       "      <td>0.0</td>\n",
       "      <td>0.0</td>\n",
       "      <td>...</td>\n",
       "      <td>2.0</td>\n",
       "      <td>0.0</td>\n",
       "      <td>2.0</td>\n",
       "      <td>1.0</td>\n",
       "      <td>1.0</td>\n",
       "      <td>1.0</td>\n",
       "      <td>0.0</td>\n",
       "      <td>2.0</td>\n",
       "      <td>2.0</td>\n",
       "      <td>4</td>\n",
       "    </tr>\n",
       "    <tr>\n",
       "      <th>2</th>\n",
       "      <td>0.0</td>\n",
       "      <td>0.0</td>\n",
       "      <td>0.0</td>\n",
       "      <td>0.0</td>\n",
       "      <td>0.0</td>\n",
       "      <td>0.0</td>\n",
       "      <td>0.0</td>\n",
       "      <td>0.0</td>\n",
       "      <td>0.0</td>\n",
       "      <td>0.0</td>\n",
       "      <td>...</td>\n",
       "      <td>1.0</td>\n",
       "      <td>1.0</td>\n",
       "      <td>2.0</td>\n",
       "      <td>2.0</td>\n",
       "      <td>1.0</td>\n",
       "      <td>2.0</td>\n",
       "      <td>1.0</td>\n",
       "      <td>2.0</td>\n",
       "      <td>1.0</td>\n",
       "      <td>6</td>\n",
       "    </tr>\n",
       "    <tr>\n",
       "      <th>3</th>\n",
       "      <td>0.0</td>\n",
       "      <td>0.0</td>\n",
       "      <td>0.0</td>\n",
       "      <td>0.0</td>\n",
       "      <td>0.0</td>\n",
       "      <td>0.0</td>\n",
       "      <td>0.0</td>\n",
       "      <td>0.0</td>\n",
       "      <td>2.0</td>\n",
       "      <td>0.0</td>\n",
       "      <td>...</td>\n",
       "      <td>0.0</td>\n",
       "      <td>2.0</td>\n",
       "      <td>2.0</td>\n",
       "      <td>2.0</td>\n",
       "      <td>2.0</td>\n",
       "      <td>1.0</td>\n",
       "      <td>2.0</td>\n",
       "      <td>1.0</td>\n",
       "      <td>1.0</td>\n",
       "      <td>4</td>\n",
       "    </tr>\n",
       "    <tr>\n",
       "      <th>4</th>\n",
       "      <td>0.0</td>\n",
       "      <td>0.0</td>\n",
       "      <td>0.0</td>\n",
       "      <td>0.0</td>\n",
       "      <td>2.0</td>\n",
       "      <td>0.0</td>\n",
       "      <td>0.0</td>\n",
       "      <td>0.0</td>\n",
       "      <td>0.0</td>\n",
       "      <td>2.0</td>\n",
       "      <td>...</td>\n",
       "      <td>2.0</td>\n",
       "      <td>2.0</td>\n",
       "      <td>2.0</td>\n",
       "      <td>1.0</td>\n",
       "      <td>2.0</td>\n",
       "      <td>2.0</td>\n",
       "      <td>1.0</td>\n",
       "      <td>2.0</td>\n",
       "      <td>1.0</td>\n",
       "      <td>3</td>\n",
       "    </tr>\n",
       "  </tbody>\n",
       "</table>\n",
       "<p>5 rows × 43 columns</p>\n",
       "</div>"
      ],
      "text/plain": [
       "         position_0  position_1  position_2  position_3  position_4  \\\n",
       "game_no                                                               \n",
       "0               0.0         0.0         0.0         0.0         0.0   \n",
       "1               0.0         0.0         0.0         0.0         0.0   \n",
       "2               0.0         0.0         0.0         0.0         0.0   \n",
       "3               0.0         0.0         0.0         0.0         0.0   \n",
       "4               0.0         0.0         0.0         0.0         2.0   \n",
       "\n",
       "         position_5  position_6  position_7  position_8  position_9   ...    \\\n",
       "game_no                                                               ...     \n",
       "0               0.0         1.0         0.0         1.0         0.0   ...     \n",
       "1               0.0         0.0         0.0         0.0         0.0   ...     \n",
       "2               0.0         0.0         0.0         0.0         0.0   ...     \n",
       "3               0.0         0.0         0.0         2.0         0.0   ...     \n",
       "4               0.0         0.0         0.0         0.0         2.0   ...     \n",
       "\n",
       "         position_33  position_34  position_35  position_36  position_37  \\\n",
       "game_no                                                                    \n",
       "0                2.0          2.0          1.0          2.0          2.0   \n",
       "1                2.0          0.0          2.0          1.0          1.0   \n",
       "2                1.0          1.0          2.0          2.0          1.0   \n",
       "3                0.0          2.0          2.0          2.0          2.0   \n",
       "4                2.0          2.0          2.0          1.0          2.0   \n",
       "\n",
       "         position_38  position_39  position_40  position_41  choice  \n",
       "game_no                                                              \n",
       "0                2.0          0.0          2.0          1.0       3  \n",
       "1                1.0          0.0          2.0          2.0       4  \n",
       "2                2.0          1.0          2.0          1.0       6  \n",
       "3                1.0          2.0          1.0          1.0       4  \n",
       "4                2.0          1.0          2.0          1.0       3  \n",
       "\n",
       "[5 rows x 43 columns]"
      ]
     },
     "execution_count": 157,
     "metadata": {},
     "output_type": "execute_result"
    }
   ],
   "source": [
    "winning_moves.head()"
   ]
  },
  {
   "cell_type": "code",
   "execution_count": 158,
   "metadata": {},
   "outputs": [],
   "source": [
    "boards = []\n",
    "for i, row in winning_moves.iterrows():\n",
    "    board_rows = []\n",
    "    for j in range(6):\n",
    "        seg = row.iloc[j*7:(j+1)*7]\n",
    "        seg = seg.values#.reshape(-1, 1)\n",
    "        board_rows.append(seg)\n",
    "    boards.append(np.array(board_rows))"
   ]
  },
  {
   "cell_type": "code",
   "execution_count": 159,
   "metadata": {},
   "outputs": [
    {
     "data": {
      "text/plain": [
       "(20000, 6, 7)"
      ]
     },
     "execution_count": 159,
     "metadata": {},
     "output_type": "execute_result"
    }
   ],
   "source": [
    "X = np.array(boards)\n",
    "X.shape"
   ]
  },
  {
   "cell_type": "code",
   "execution_count": 160,
   "metadata": {
    "collapsed": true
   },
   "outputs": [],
   "source": [
    "y = winning_moves[\"choice\"].values"
   ]
  },
  {
   "cell_type": "code",
   "execution_count": 161,
   "metadata": {
    "collapsed": true
   },
   "outputs": [],
   "source": [
    "# https://github.com/dcoxnard/nyc17_ds13/blob/master/class_lectures/week08-fletcher2/03-deep_learning_keras/Deep%20Learning%20for%20NLP-%20An%20Application-based%20Intro.ipynb\n",
    "\n",
    "test_share = .25\n",
    "\n",
    "ix = math.floor(X.shape[0] * test_share)\n",
    "X_train = X[:ix]\n",
    "X_test = X[ix:]\n",
    "y_train = y[:ix]\n",
    "y_test = y[ix:]"
   ]
  },
  {
   "cell_type": "code",
   "execution_count": 211,
   "metadata": {},
   "outputs": [],
   "source": [
    "input_shape = (7, 6, 1)\n",
    "\n",
    "model = keras.Sequential()\n",
    "model.add(keras.layers.Conv2D(16, 6, activation='relu', input_shape=input_shape, data_format='channels_last'))\n",
    "model.add(keras.layers.Flatten())\n",
    "model.add(keras.layers.Dense(32, activation='relu'))\n",
    "model.add(keras.layers.Dense(7, activation='softmax'))\n",
    "model.compile(loss='sparse_categorical_crossentropy', optimizer='sgd', metrics=['accuracy'])"
   ]
  },
  {
   "cell_type": "code",
   "execution_count": 212,
   "metadata": {
    "scrolled": true
   },
   "outputs": [],
   "source": [
    "history = model.fit(X_train.reshape(5000, 7, 6, 1), y_train, epochs=200, batch_size=64, validation_split=.25, verbose=0);"
   ]
  },
  {
   "cell_type": "code",
   "execution_count": 213,
   "metadata": {
    "scrolled": true
   },
   "outputs": [
    {
     "name": "stderr",
     "output_type": "stream",
     "text": [
      "C:\\Users\\David\\Anaconda3\\envs\\Connect-Four\\lib\\site-packages\\matplotlib\\figure.py:1743: UserWarning: This figure includes Axes that are not compatible with tight_layout, so its results might be incorrect.\n",
      "  warnings.warn(\"This figure includes Axes that are not \"\n"
     ]
    },
    {
     "data": {
      "image/png": "[encoded data removed]",
      "text/plain": [
       "<matplotlib.figure.Figure at 0x1b0add41b00>"
      ]
     },
     "metadata": {},
     "output_type": "display_data"
    }
   ],
   "source": [
    "measures = np.unique([k.replace('val_', '') for k in history.history.keys()])\n",
    "n = len(measures)\n",
    "x = np.arange(len(history.history[measures[0]]))\n",
    "fig, axs = plt.subplots(n, 1, squeeze=True, sharex=True, figsize=(6, 2*n), tight_layout=True)\n",
    "for i, m in enumerate(measures):\n",
    "    axs[i].plot(x, history.history[m], label=m)\n",
    "    if f\"val_{m}\" in history.history.keys():\n",
    "        axs[i].plot(x, history.history[f\"val_{m}\"], label=f\"val_{m}\")\n",
    "    if m == \"acc\":\n",
    "        axs[i].set_ylim((-0.01, 1.01))\n",
    "    axs[i].legend()\n",
    "axs[-1].set_xlabel(\"epoch\");"
   ]
  }
 ],
 "metadata": {
  "kernelspec": {
   "display_name": "Conda Connect-Four",
   "language": "python",
   "name": "connect-four"
  },
  "language_info": {
   "codemirror_mode": {
    "name": "ipython",
    "version": 3
   },
   "file_extension": ".py",
   "mimetype": "text/x-python",
   "name": "python",
   "nbconvert_exporter": "python",
   "pygments_lexer": "ipython3",
   "version": "3.6.2"
  }
 },
 "nbformat": 4,
 "nbformat_minor": 2
}

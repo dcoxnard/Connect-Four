{
 "cells": [
  {
   "cell_type": "code",
   "execution_count": 108,
   "metadata": {
    "collapsed": true
   },
   "outputs": [],
   "source": [
    "import os\n",
    "import time\n",
    "import glob\n",
    "import math\n",
    "import operator\n",
    "\n",
    "import numpy as np\n",
    "import pandas as pd\n",
    "import matplotlib.pyplot as plt\n",
    "from sklearn import linear_model, preprocessing, model_selection\n",
    "%matplotlib inline"
   ]
  },
  {
   "cell_type": "code",
   "execution_count": 109,
   "metadata": {},
   "outputs": [],
   "source": [
    "os.environ[\"KERAS_BACKEND\"] = 'tensorflow'\n",
    "import keras"
   ]
  },
  {
   "cell_type": "code",
   "execution_count": 110,
   "metadata": {
    "collapsed": true
   },
   "outputs": [],
   "source": [
    "data_dir = \"generated_games\""
   ]
  },
  {
   "cell_type": "code",
   "execution_count": 111,
   "metadata": {},
   "outputs": [
    {
     "name": "stdout",
     "output_type": "stream",
     "text": [
      "CSVs in data_dir:\n",
      "['random_choice_games.csv']\n"
     ]
    }
   ],
   "source": [
    "print(\"CSVs in data_dir:\")\n",
    "files = glob.glob(os.path.join(data_dir, \"*.csv\"))\n",
    "print([os.path.basename(file) for file in files])"
   ]
  },
  {
   "cell_type": "code",
   "execution_count": 112,
   "metadata": {
    "collapsed": true
   },
   "outputs": [],
   "source": [
    "fp = os.path.join(data_dir, \"random_choice_games.csv\")\n",
    "raw = pd.read_csv(fp)"
   ]
  },
  {
   "cell_type": "code",
   "execution_count": 113,
   "metadata": {
    "collapsed": true
   },
   "outputs": [],
   "source": [
    "winning_moves = raw.groupby(\"game_no\").last()"
   ]
  },
  {
   "cell_type": "code",
   "execution_count": 114,
   "metadata": {
    "collapsed": true
   },
   "outputs": [],
   "source": [
    "boards = []\n",
    "for i, row in winning_moves.iterrows():\n",
    "    board_rows = []\n",
    "    for j in range(6):\n",
    "        seg = row.iloc[j*7:(j+1)*7]\n",
    "        seg = seg.values#.reshape(-1, 1)\n",
    "        board_rows.append(seg)\n",
    "    boards.append(np.array(board_rows))"
   ]
  },
  {
   "cell_type": "code",
   "execution_count": 115,
   "metadata": {},
   "outputs": [
    {
     "data": {
      "text/plain": [
       "(50000, 6, 7)"
      ]
     },
     "execution_count": 115,
     "metadata": {},
     "output_type": "execute_result"
    }
   ],
   "source": [
    "X = np.array(boards)\n",
    "X.shape"
   ]
  },
  {
   "cell_type": "code",
   "execution_count": 116,
   "metadata": {
    "collapsed": true
   },
   "outputs": [],
   "source": [
    "y = winning_moves[\"choice\"].values"
   ]
  },
  {
   "cell_type": "code",
   "execution_count": 117,
   "metadata": {
    "collapsed": true
   },
   "outputs": [],
   "source": [
    "# https://github.com/dcoxnard/nyc17_ds13/blob/master/class_lectures/week08-fletcher2/03-deep_learning_keras/Deep%20Learning%20for%20NLP-%20An%20Application-based%20Intro.ipynb\n",
    "\n",
    "test_share = .25\n",
    "\n",
    "ix = math.floor(X.shape[0] * test_share)\n",
    "X_train = X[:ix]\n",
    "X_test = X[ix:]\n",
    "y_train = y[:ix]\n",
    "y_test = y[ix:]"
   ]
  },
  {
   "cell_type": "code",
   "execution_count": 127,
   "metadata": {},
   "outputs": [
    {
     "name": "stdout",
     "output_type": "stream",
     "text": [
      "(?, 6, 7, 1)\n",
      "(?, 5, 6, 6)\n",
      "(?, 5, 6, 6)\n",
      "(?, 5, 6, 6)\n",
      "(?, ?)\n",
      "(?, 32)\n"
     ]
    }
   ],
   "source": [
    "input_shape = (6, 7, 1)\n",
    "\n",
    "input_ = keras.layers.Input(input_shape)\n",
    "print(input_.shape)\n",
    "x = keras.layers.Conv2D(6, (2, 2), activation='relu', input_shape=input_shape, data_format='channels_last')(input_)\n",
    "print(x.shape)\n",
    "x = keras.layers.MaxPool2D(pool_size=(1, 1), data_format='channels_last')(x)\n",
    "print(x.shape)\n",
    "x = keras.layers.BatchNormalization()(x)\n",
    "print(x.shape)\n",
    "x = keras.layers.Flatten()(x)\n",
    "print(x.shape)\n",
    "x = keras.layers.Dense(32, activation='relu')(x)\n",
    "print(x.shape)\n",
    "output = keras.layers.Dense(7, activation='softmax')(x)\n",
    "model = keras.Model(input_, output)\n",
    "model.compile(loss='sparse_categorical_crossentropy', optimizer='sgd', metrics=['accuracy'])"
   ]
  },
  {
   "cell_type": "code",
   "execution_count": 128,
   "metadata": {
    "scrolled": true
   },
   "outputs": [
    {
     "name": "stdout",
     "output_type": "stream",
     "text": [
      "Model fit in 217.274 secs\n"
     ]
    }
   ],
   "source": [
    "start = time.time()\n",
    "history = model.fit(X_train.reshape(12500, 6, 7, 1), y_train, epochs=200, batch_size=64, validation_split=.25, verbose=0);\n",
    "end = time.time()\n",
    "print(f\"Model fit in {round(end - start, 3)} secs\")"
   ]
  },
  {
   "cell_type": "code",
   "execution_count": 129,
   "metadata": {
    "scrolled": true
   },
   "outputs": [
    {
     "name": "stderr",
     "output_type": "stream",
     "text": [
      "C:\\Users\\David\\Anaconda3\\envs\\Connect-Four\\lib\\site-packages\\matplotlib\\figure.py:1743: UserWarning: This figure includes Axes that are not compatible with tight_layout, so its results might be incorrect.\n",
      "  warnings.warn(\"This figure includes Axes that are not \"\n"
     ]
    },
    {
     "data": {
      "image/png": "[encoded data removed]",
      "text/plain": [
       "<matplotlib.figure.Figure at 0x1d90ac0eac8>"
      ]
     },
     "metadata": {},
     "output_type": "display_data"
    }
   ],
   "source": [
    "measures = np.unique([k.replace('val_', '') for k in history.history.keys()])\n",
    "n = len(measures)\n",
    "x = np.arange(len(history.history[measures[0]]))\n",
    "fig, axs = plt.subplots(n, 1, squeeze=True, sharex=True, figsize=(6, 2*n), tight_layout=True)\n",
    "for i, m in enumerate(measures):\n",
    "    axs[i].plot(x, history.history[m], label=m)\n",
    "    if f\"val_{m}\" in history.history.keys():\n",
    "        axs[i].plot(x, history.history[f\"val_{m}\"], label=f\"val_{m}\")\n",
    "    if m == \"acc\":\n",
    "        axs[i].set_ylim((-0.01, 1.01))\n",
    "    axs[i].legend()\n",
    "axs[-1].set_xlabel(\"epoch\");"
   ]
  }
 ],
 "metadata": {
  "kernelspec": {
   "display_name": "Conda Connect-Four",
   "language": "python",
   "name": "connect-four"
  },
  "language_info": {
   "codemirror_mode": {
    "name": "ipython",
    "version": 3
   },
   "file_extension": ".py",
   "mimetype": "text/x-python",
   "name": "python",
   "nbconvert_exporter": "python",
   "pygments_lexer": "ipython3",
   "version": "3.6.2"
  }
 },
 "nbformat": 4,
 "nbformat_minor": 2
}

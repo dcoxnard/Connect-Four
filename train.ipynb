{
 "cells": [
  {
   "cell_type": "code",
   "execution_count": 1,
   "metadata": {},
   "outputs": [],
   "source": [
    "import os\n",
    "import glob\n",
    "import time\n",
    "\n",
    "import numpy as np\n",
    "import pandas as pd\n",
    "import matplotlib.pyplot as plt\n",
    "from sklearn import linear_model, preprocessing, model_selection\n",
    "%matplotlib inline"
   ]
  },
  {
   "cell_type": "code",
   "execution_count": 2,
   "metadata": {},
   "outputs": [],
   "source": [
    "data_dir = \"generated_games\""
   ]
  },
  {
   "cell_type": "code",
   "execution_count": 3,
   "metadata": {},
   "outputs": [
    {
     "name": "stdout",
     "output_type": "stream",
     "text": [
      "CSVs in data_dir:\n",
      "['random_choice_games.csv']\n"
     ]
    }
   ],
   "source": [
    "print(\"CSVs in data_dir:\")\n",
    "files = glob.glob(os.path.join(data_dir, \"*.csv\"))\n",
    "print([os.path.basename(file) for file in files])"
   ]
  },
  {
   "cell_type": "code",
   "execution_count": 4,
   "metadata": {},
   "outputs": [],
   "source": [
    "fp = os.path.join(data_dir, \"random_choice_games.csv\")\n",
    "raw = pd.read_csv(fp)"
   ]
  },
  {
   "cell_type": "code",
   "execution_count": 5,
   "metadata": {},
   "outputs": [],
   "source": [
    "# All features are categorical\n",
    "\n",
    "to_encode = raw.drop(\"game_no\", axis=1)\n",
    "encoder = preprocessing.OneHotEncoder()\n",
    "X = encoder.fit_transform(to_encode)\n",
    "\n",
    "scaler = np.array([3] * (X.shape[1] - 7) + [7] * (7))\n",
    "X_scaled = X / scaler"
   ]
  },
  {
   "cell_type": "code",
   "execution_count": 13,
   "metadata": {},
   "outputs": [
    {
     "name": "stdout",
     "output_type": "stream",
     "text": [
      "(217588,)\n",
      "(217588, 45)\n"
     ]
    }
   ],
   "source": [
    "# Create Reward\n",
    "\n",
    "def r(g):\n",
    "#     reward = np.logspace(-2, 0, len(g))  # Logspace\n",
    "#     reward = np.linspace(0, 100, len(g))  # Linspace\n",
    "#     reward = np.linspace(100-(10*len(g-1)), 100, len(g))  # Line-segment space\n",
    "    reward = np.concatenate([np.linspace(0, 100, len(g)-1), np.array([200])])\n",
    "    return reward\n",
    "\n",
    "reward = raw.groupby(\"game_no\").apply(lambda g: r(g))\n",
    "\n",
    "reward = np.hstack(reward.values)\n",
    "print(reward.shape)\n",
    "print(raw.shape)\n",
    "raw[\"reward\"] = list(reward)"
   ]
  },
  {
   "cell_type": "code",
   "execution_count": 14,
   "metadata": {},
   "outputs": [],
   "source": [
    "y = raw[\"reward\"]"
   ]
  },
  {
   "cell_type": "code",
   "execution_count": 15,
   "metadata": {},
   "outputs": [],
   "source": [
    "CV = 5"
   ]
  },
  {
   "cell_type": "code",
   "execution_count": 16,
   "metadata": {},
   "outputs": [
    {
     "name": "stdout",
     "output_type": "stream",
     "text": [
      "Fit took 41.739 sec\n",
      "Data had shape: (217588, 133)\n",
      "Number of alphas cross-validated: 20\n",
      "\n",
      "GridSearchCV(cv=5, error_score='raise',\n",
      "       estimator=Ridge(alpha=1, copy_X=True, fit_intercept=False, max_iter=None,\n",
      "   normalize=False, random_state=None, solver='auto', tol=0.001),\n",
      "       fit_params=None, iid=True, n_jobs=1,\n",
      "       param_grid={'alpha': array([  1.00000e-03,   2.06914e-03,   4.28133e-03,   8.85867e-03,\n",
      "         1.83298e-02,   3.79269e-02,   7.84760e-02,   1.62378e-01,\n",
      "         3.35982e-01,   6.95193e-01,   1.43845e+00,   2.97635e+00,\n",
      "         6.15848e+00,   1.27427e+01,   2.63665e+01,   5.45559e+01,\n",
      "         1.12884e+02,   2.33572e+02,   4.83293e+02,   1.00000e+03])},\n",
      "       pre_dispatch='2*n_jobs', refit=True, return_train_score=True,\n",
      "       scoring=None, verbose=0)\n"
     ]
    }
   ],
   "source": [
    "# Fit classifier w/ CV-fold Cross Validation\n",
    "\n",
    "alphas = np.logspace(-3, 3, 20)\n",
    "ridge = linear_model.Ridge(alpha=1, fit_intercept=False)\n",
    "\n",
    "clf = model_selection.GridSearchCV(ridge, param_grid={'alpha': alphas}, cv=CV)\n",
    "\n",
    "start = time.time()\n",
    "clf.fit(X, y)\n",
    "end = time.time()\n",
    "\n",
    "print(f\"Fit took {round(end - start, 3)} sec\")\n",
    "print(f\"Data had shape: ({X.shape[0]}, {X.shape[1]})\")\n",
    "print(f\"Number of alphas cross-validated: {len(alphas)}\\n\")\n",
    "print(clf)"
   ]
  },
  {
   "cell_type": "code",
   "execution_count": 17,
   "metadata": {},
   "outputs": [
    {
     "data": {
      "text/plain": [
       "[<matplotlib.lines.Line2D at 0x1f0090beb38>]"
      ]
     },
     "execution_count": 17,
     "metadata": {},
     "output_type": "execute_result"
    },
    {
     "data": {
      "image/png": "[encoded data removed]",
      "text/plain": [
       "<matplotlib.figure.Figure at 0x1f071fe5828>"
      ]
     },
     "metadata": {},
     "output_type": "display_data"
    }
   ],
   "source": [
    "# Plot results per Fold\n",
    "\n",
    "trains = [clf.cv_results_[f\"split{i}_train_score\"] for i in range(CV)]\n",
    "tests = [clf.cv_results_[f\"split{i}_test_score\"] for i in range(CV)]\n",
    "all_vals = np.array(trains + tests)\n",
    "max_val = all_vals.max()\n",
    "min_val = all_vals.min()\n",
    "\n",
    "ax = plt.subplot()\n",
    "# ax.set_ylim((0, 1))\n",
    "\n",
    "alphas = np.log(clf.param_grid[\"alpha\"])\n",
    "\n",
    "cmap = {0: 'green', 1: 'yellow', 2: 'orange', 3: 'lightblue', 4: 'pink'}\n",
    "\n",
    "for i in range(CV):\n",
    "    \n",
    "    train_nm = f\"split{i}_train_score\"\n",
    "    split_train = clf.cv_results_[train_nm]\n",
    "    \n",
    "    test_nm = f\"split{i}_test_score\"\n",
    "    split_test = clf.cv_results_[test_nm]\n",
    "    \n",
    "    ax.plot(alphas, split_train, color=cmap[i])\n",
    "    ax.plot(alphas, split_test, color=cmap[i], linestyle='--')\n",
    "    \n",
    "ax.plot(alphas, clf.cv_results_[\"mean_train_score\"], color='black', linewidth=2)\n",
    "ax.plot(alphas, clf.cv_results_[\"mean_test_score\"], color='black', linestyle='--', linewidth=2)"
   ]
  }
 ],
 "metadata": {
  "kernelspec": {
   "display_name": "Conda Connect-Four",
   "language": "python",
   "name": "connect-four"
  },
  "language_info": {
   "codemirror_mode": {
    "name": "ipython",
    "version": 3
   },
   "file_extension": ".py",
   "mimetype": "text/x-python",
   "name": "python",
   "nbconvert_exporter": "python",
   "pygments_lexer": "ipython3",
   "version": "3.6.2"
  }
 },
 "nbformat": 4,
 "nbformat_minor": 2
}
